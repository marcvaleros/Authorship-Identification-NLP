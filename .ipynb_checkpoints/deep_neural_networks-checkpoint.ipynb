{
 "cells": [
  {
   "cell_type": "code",
   "execution_count": 1,
   "metadata": {},
   "outputs": [],
   "source": [
    "import numpy as np\n",
    "from numpy import dstack\n",
    "import tensorflow as tf\n",
    "import operator\n",
    "import pandas as pd\n",
    "import matplotlib.pyplot as plt\n",
    "import seaborn as sns\n",
    "import re\n",
    "import warnings\n",
    "import multiprocessing as mp\n",
    "import string\n",
    "import en_core_web_sm\n",
    "import spacy\n",
    "from random import randrange\n",
    "import nltk\n",
    "from nltk.tokenize import word_tokenize\n",
    "from nltk.corpus import stopwords\n",
    "from nltk.corpus import wordnet\n",
    "from nltk.stem import WordNetLemmatizer\n",
    "from sklearn.preprocessing import FunctionTransformer\n",
    "from sklearn.metrics import classification_report,confusion_matrix\n",
    "from sklearn.pipeline import Pipeline\n",
    "from sklearn.base import BaseEstimator, TransformerMixin\n",
    "from sklearn.model_selection import train_test_split,StratifiedKFold\n",
    "from sklearn.linear_model import LogisticRegression\n",
    "from sklearn.feature_extraction.text import CountVectorizer,TfidfTransformer\n",
    "from tensorflow.keras.preprocessing.text import Tokenizer\n",
    "from tensorflow.keras.preprocessing.sequence import pad_sequences\n",
    "from tensorflow.keras.models import Sequential,Model\n",
    "from tensorflow.keras.layers import Input,Embedding,Dense,LSTM,GRU,Bidirectional,Dropout,SimpleRNN,GlobalAvgPool1D,GlobalMaxPool1D\n",
    "from tensorflow.keras.layers import Conv1D,SpatialDropout1D,BatchNormalization,Lambda,Concatenate,concatenate,GlobalMaxPooling1D\n",
    "from tensorflow.keras.callbacks import  EarlyStopping\n",
    "from keras.utils import to_categorical\n",
    "\n",
    "%matplotlib inline"
   ]
  },
  {
   "cell_type": "code",
   "execution_count": 2,
   "metadata": {},
   "outputs": [
    {
     "name": "stderr",
     "output_type": "stream",
     "text": [
      "[nltk_data] Downloading package punkt to\n",
      "[nltk_data]     C:\\Users\\Marc\\AppData\\Roaming\\nltk_data...\n",
      "[nltk_data]   Package punkt is already up-to-date!\n",
      "[nltk_data] Downloading package stopwords to\n",
      "[nltk_data]     C:\\Users\\Marc\\AppData\\Roaming\\nltk_data...\n",
      "[nltk_data]   Package stopwords is already up-to-date!\n",
      "[nltk_data] Downloading package wordnet to\n",
      "[nltk_data]     C:\\Users\\Marc\\AppData\\Roaming\\nltk_data...\n",
      "[nltk_data]   Package wordnet is already up-to-date!\n",
      "[nltk_data] Downloading package averaged_perceptron_tagger to\n",
      "[nltk_data]     C:\\Users\\Marc\\AppData\\Roaming\\nltk_data...\n",
      "[nltk_data]   Package averaged_perceptron_tagger is already up-to-\n",
      "[nltk_data]       date!\n"
     ]
    }
   ],
   "source": [
    "nltk.download('punkt')\n",
    "nltk.download('stopwords')\n",
    "nltk.download('wordnet')\n",
    "nltk.download('averaged_perceptron_tagger')\n",
    "warnings.filterwarnings('ignore')\n",
    "nlp = en_core_web_sm.load()"
   ]
  },
  {
   "cell_type": "code",
   "execution_count": 3,
   "metadata": {},
   "outputs": [
    {
     "data": {
      "text/html": [
       "<div>\n",
       "<style scoped>\n",
       "    .dataframe tbody tr th:only-of-type {\n",
       "        vertical-align: middle;\n",
       "    }\n",
       "\n",
       "    .dataframe tbody tr th {\n",
       "        vertical-align: top;\n",
       "    }\n",
       "\n",
       "    .dataframe thead th {\n",
       "        text-align: right;\n",
       "    }\n",
       "</style>\n",
       "<table border=\"1\" class=\"dataframe\">\n",
       "  <thead>\n",
       "    <tr style=\"text-align: right;\">\n",
       "      <th></th>\n",
       "      <th>id</th>\n",
       "      <th>text</th>\n",
       "      <th>author</th>\n",
       "    </tr>\n",
       "  </thead>\n",
       "  <tbody>\n",
       "    <tr>\n",
       "      <th>0</th>\n",
       "      <td>id26305</td>\n",
       "      <td>This process, however, afforded me no means of...</td>\n",
       "      <td>EAP</td>\n",
       "    </tr>\n",
       "    <tr>\n",
       "      <th>1</th>\n",
       "      <td>id17569</td>\n",
       "      <td>It never once occurred to me that the fumbling...</td>\n",
       "      <td>HPL</td>\n",
       "    </tr>\n",
       "    <tr>\n",
       "      <th>2</th>\n",
       "      <td>id11008</td>\n",
       "      <td>In his left hand was a gold snuff box, from wh...</td>\n",
       "      <td>EAP</td>\n",
       "    </tr>\n",
       "    <tr>\n",
       "      <th>3</th>\n",
       "      <td>id27763</td>\n",
       "      <td>How lovely is spring As we looked from Windsor...</td>\n",
       "      <td>MWS</td>\n",
       "    </tr>\n",
       "    <tr>\n",
       "      <th>4</th>\n",
       "      <td>id12958</td>\n",
       "      <td>Finding nothing else, not even gold, the Super...</td>\n",
       "      <td>HPL</td>\n",
       "    </tr>\n",
       "  </tbody>\n",
       "</table>\n",
       "</div>"
      ],
      "text/plain": [
       "        id                                               text author\n",
       "0  id26305  This process, however, afforded me no means of...    EAP\n",
       "1  id17569  It never once occurred to me that the fumbling...    HPL\n",
       "2  id11008  In his left hand was a gold snuff box, from wh...    EAP\n",
       "3  id27763  How lovely is spring As we looked from Windsor...    MWS\n",
       "4  id12958  Finding nothing else, not even gold, the Super...    HPL"
      ]
     },
     "execution_count": 3,
     "metadata": {},
     "output_type": "execute_result"
    }
   ],
   "source": [
    "df = pd.read_csv('train.csv')\n",
    "df.head()"
   ]
  },
  {
   "cell_type": "code",
   "execution_count": 4,
   "metadata": {},
   "outputs": [
    {
     "name": "stdout",
     "output_type": "stream",
     "text": [
      "<class 'pandas.core.frame.DataFrame'>\n",
      "RangeIndex: 19579 entries, 0 to 19578\n",
      "Data columns (total 3 columns):\n",
      " #   Column  Non-Null Count  Dtype \n",
      "---  ------  --------------  ----- \n",
      " 0   id      19579 non-null  object\n",
      " 1   text    19579 non-null  object\n",
      " 2   author  19579 non-null  object\n",
      "dtypes: object(3)\n",
      "memory usage: 459.0+ KB\n"
     ]
    }
   ],
   "source": [
    "df.info()"
   ]
  },
  {
   "cell_type": "code",
   "execution_count": 5,
   "metadata": {},
   "outputs": [],
   "source": [
    "\n",
    "# Removing id column\n",
    "df.drop('id',axis=1,inplace=True)"
   ]
  },
  {
   "cell_type": "code",
   "execution_count": 6,
   "metadata": {},
   "outputs": [
    {
     "name": "stdout",
     "output_type": "stream",
     "text": [
      "<class 'pandas.core.frame.DataFrame'>\n",
      "Index: 19488 entries, 0 to 19578\n",
      "Data columns (total 2 columns):\n",
      " #   Column  Non-Null Count  Dtype \n",
      "---  ------  --------------  ----- \n",
      " 0   text    19488 non-null  object\n",
      " 1   author  19488 non-null  object\n",
      "dtypes: object(2)\n",
      "memory usage: 456.8+ KB\n"
     ]
    }
   ],
   "source": [
    "#remove outliers\n",
    "df = df[df['text'].str.split().map(lambda x:len(x))<100]\n",
    "df.info()"
   ]
  },
  {
   "cell_type": "markdown",
   "metadata": {},
   "source": [
    "## Data Cleaning\n"
   ]
  },
  {
   "cell_type": "code",
   "execution_count": 7,
   "metadata": {},
   "outputs": [],
   "source": [
    "# a function to preprocess removing punctuations, normalize, stopwords and lemmatization\n",
    "\n",
    "\n",
    "class TextPreprocessing(BaseEstimator,TransformerMixin):\n",
    "    def __init__(self,\n",
    "                 n_jobs=1):    \n",
    "      \n",
    "     self.n_jobs = n_jobs\n",
    "    \"\"\"\n",
    "        Text preprocessing transformer includes steps:\n",
    "            1. Text normalization\n",
    "            2. Punctuation removal\n",
    "            3. Stop words removal\n",
    "            4. Lemmatization\n",
    "        \n",
    "        n_jobs - parallel jobs to run\n",
    "    \"\"\"\n",
    "    def fit(self, X, y=None):\n",
    "        return self\n",
    "\n",
    "    def transform(self, X, *_):\n",
    "        X_copy = X.copy()\n",
    "        partitions = 2\n",
    "        cores = mp.cpu_count()\n",
    "        if self.n_jobs <= -1:\n",
    "          partitions = cores\n",
    "        elif self.n_jobs <= 0:\n",
    "          return X_copy.apply(self._preprocess_text)\n",
    "        else:\n",
    "          partitions = min(self.n_jobs, cores)\n",
    "        cores = mp.cpu_count()\n",
    "        data_split = np.array_split(X_copy, partitions)\n",
    "        pool = mp.Pool(cores)\n",
    "        data = pd.concat(pool.map(self._preprocess_part, data_split))\n",
    "        pool.close()\n",
    "        pool.join()\n",
    "        return data\n",
    "\n",
    "    def _preprocess_part(self, part):\n",
    "        return part.apply(self._preprocess_text)\n",
    "\n",
    "    def _preprocess_text(self, text):\n",
    "        normalized_text = self._normalize(text)\n",
    "        doc = nlp(normalized_text)\n",
    "        removed_punct = self._remove_punct(doc)\n",
    "        removed_stop_words = self._remove_stop_words(removed_punct)\n",
    "        return self._lemmatize(removed_stop_words)\n",
    "\n",
    "    def _normalize(self, text):\n",
    "        # some issues in normalise package\n",
    "        try:\n",
    "            return ' '.join(normalise(text, verbose=False))\n",
    "        except:\n",
    "            return text\n",
    "    def _remove_punct(self, doc):\n",
    "        return [t for t in doc if t.text not in string.punctuation]\n",
    "\n",
    "    def _remove_stop_words(self, doc):\n",
    "        return [t for t in doc if not t.is_stop]\n",
    "\n",
    "    def _lemmatize(self, doc):\n",
    "        return ' '.join([t.lemma_ for t in doc])"
   ]
  },
  {
   "cell_type": "code",
   "execution_count": 8,
   "metadata": {},
   "outputs": [
    {
     "data": {
      "text/html": [
       "<div>\n",
       "<style scoped>\n",
       "    .dataframe tbody tr th:only-of-type {\n",
       "        vertical-align: middle;\n",
       "    }\n",
       "\n",
       "    .dataframe tbody tr th {\n",
       "        vertical-align: top;\n",
       "    }\n",
       "\n",
       "    .dataframe thead th {\n",
       "        text-align: right;\n",
       "    }\n",
       "</style>\n",
       "<table border=\"1\" class=\"dataframe\">\n",
       "  <thead>\n",
       "    <tr style=\"text-align: right;\">\n",
       "      <th></th>\n",
       "      <th>text</th>\n",
       "      <th>author</th>\n",
       "    </tr>\n",
       "  </thead>\n",
       "  <tbody>\n",
       "    <tr>\n",
       "      <th>0</th>\n",
       "      <td>This process, however, afforded me no means of...</td>\n",
       "      <td>0</td>\n",
       "    </tr>\n",
       "    <tr>\n",
       "      <th>1</th>\n",
       "      <td>It never once occurred to me that the fumbling...</td>\n",
       "      <td>1</td>\n",
       "    </tr>\n",
       "    <tr>\n",
       "      <th>2</th>\n",
       "      <td>In his left hand was a gold snuff box, from wh...</td>\n",
       "      <td>0</td>\n",
       "    </tr>\n",
       "    <tr>\n",
       "      <th>3</th>\n",
       "      <td>How lovely is spring As we looked from Windsor...</td>\n",
       "      <td>2</td>\n",
       "    </tr>\n",
       "    <tr>\n",
       "      <th>4</th>\n",
       "      <td>Finding nothing else, not even gold, the Super...</td>\n",
       "      <td>1</td>\n",
       "    </tr>\n",
       "  </tbody>\n",
       "</table>\n",
       "</div>"
      ],
      "text/plain": [
       "                                                text  author\n",
       "0  This process, however, afforded me no means of...       0\n",
       "1  It never once occurred to me that the fumbling...       1\n",
       "2  In his left hand was a gold snuff box, from wh...       0\n",
       "3  How lovely is spring As we looked from Windsor...       2\n",
       "4  Finding nothing else, not even gold, the Super...       1"
      ]
     },
     "execution_count": 8,
     "metadata": {},
     "output_type": "execute_result"
    }
   ],
   "source": [
    "#Converting the categorical column to variable for easier processing \n",
    "\n",
    "df['author'] = df['author'].map({'EAP':0,'HPL':1,'MWS':2})\n",
    "df.head()"
   ]
  },
  {
   "cell_type": "markdown",
   "metadata": {},
   "source": [
    "#### Using countvectorizer to convert the sentence into column of words"
   ]
  },
  {
   "cell_type": "code",
   "execution_count": 9,
   "metadata": {},
   "outputs": [
    {
     "name": "stdout",
     "output_type": "stream",
     "text": [
      "Shape of Sparse Matrix:  (19488, 24796)\n",
      "Amount of Non-Zero occurences:  421231\n",
      "Shape of Tfidf Transformed matrix (19488, 24796)\n"
     ]
    }
   ],
   "source": [
    "cv = CountVectorizer()\n",
    "cv_df = cv.fit_transform(df['text'])\n",
    "\n",
    "tfidf = TfidfTransformer()\n",
    "tfidf.fit(cv_df)\n",
    "tfidf_trans = tfidf.transform(cv_df)\n",
    "\n",
    "print('Shape of Sparse Matrix: ', cv_df.shape)\n",
    "print('Amount of Non-Zero occurences: ', cv_df.nnz)\n",
    "print('Shape of Tfidf Transformed matrix',tfidf_trans.shape)"
   ]
  },
  {
   "cell_type": "markdown",
   "metadata": {},
   "source": [
    "# Neural Networks Model\n",
    "\n"
   ]
  },
  {
   "cell_type": "code",
   "execution_count": 10,
   "metadata": {},
   "outputs": [
    {
     "data": {
      "text/html": [
       "<div>\n",
       "<style scoped>\n",
       "    .dataframe tbody tr th:only-of-type {\n",
       "        vertical-align: middle;\n",
       "    }\n",
       "\n",
       "    .dataframe tbody tr th {\n",
       "        vertical-align: top;\n",
       "    }\n",
       "\n",
       "    .dataframe thead th {\n",
       "        text-align: right;\n",
       "    }\n",
       "</style>\n",
       "<table border=\"1\" class=\"dataframe\">\n",
       "  <thead>\n",
       "    <tr style=\"text-align: right;\">\n",
       "      <th></th>\n",
       "      <th>text</th>\n",
       "      <th>author</th>\n",
       "    </tr>\n",
       "  </thead>\n",
       "  <tbody>\n",
       "    <tr>\n",
       "      <th>0</th>\n",
       "      <td>This process, however, afforded me no means of...</td>\n",
       "      <td>0</td>\n",
       "    </tr>\n",
       "    <tr>\n",
       "      <th>1</th>\n",
       "      <td>It never once occurred to me that the fumbling...</td>\n",
       "      <td>1</td>\n",
       "    </tr>\n",
       "    <tr>\n",
       "      <th>2</th>\n",
       "      <td>In his left hand was a gold snuff box, from wh...</td>\n",
       "      <td>0</td>\n",
       "    </tr>\n",
       "    <tr>\n",
       "      <th>3</th>\n",
       "      <td>How lovely is spring As we looked from Windsor...</td>\n",
       "      <td>2</td>\n",
       "    </tr>\n",
       "    <tr>\n",
       "      <th>4</th>\n",
       "      <td>Finding nothing else, not even gold, the Super...</td>\n",
       "      <td>1</td>\n",
       "    </tr>\n",
       "  </tbody>\n",
       "</table>\n",
       "</div>"
      ],
      "text/plain": [
       "                                                text  author\n",
       "0  This process, however, afforded me no means of...       0\n",
       "1  It never once occurred to me that the fumbling...       1\n",
       "2  In his left hand was a gold snuff box, from wh...       0\n",
       "3  How lovely is spring As we looked from Windsor...       2\n",
       "4  Finding nothing else, not even gold, the Super...       1"
      ]
     },
     "execution_count": 10,
     "metadata": {},
     "output_type": "execute_result"
    }
   ],
   "source": [
    "df_neural = df\n",
    "df_neural.head()"
   ]
  },
  {
   "cell_type": "code",
   "execution_count": 11,
   "metadata": {},
   "outputs": [
    {
     "data": {
      "text/html": [
       "<div>\n",
       "<style scoped>\n",
       "    .dataframe tbody tr th:only-of-type {\n",
       "        vertical-align: middle;\n",
       "    }\n",
       "\n",
       "    .dataframe tbody tr th {\n",
       "        vertical-align: top;\n",
       "    }\n",
       "\n",
       "    .dataframe thead th {\n",
       "        text-align: right;\n",
       "    }\n",
       "</style>\n",
       "<table border=\"1\" class=\"dataframe\">\n",
       "  <thead>\n",
       "    <tr style=\"text-align: right;\">\n",
       "      <th></th>\n",
       "      <th>text</th>\n",
       "      <th>author</th>\n",
       "    </tr>\n",
       "  </thead>\n",
       "  <tbody>\n",
       "    <tr>\n",
       "      <th>0</th>\n",
       "      <td>process however afford mean ascertain dimensio...</td>\n",
       "      <td>0</td>\n",
       "    </tr>\n",
       "    <tr>\n",
       "      <th>1</th>\n",
       "      <td>never occur fumble might mere mistake .</td>\n",
       "      <td>1</td>\n",
       "    </tr>\n",
       "    <tr>\n",
       "      <th>2</th>\n",
       "      <td>left hand gold snuff box caper hill cut manner...</td>\n",
       "      <td>0</td>\n",
       "    </tr>\n",
       "    <tr>\n",
       "      <th>3</th>\n",
       "      <td>lovely spring look windsor terrace sixteen fer...</td>\n",
       "      <td>2</td>\n",
       "    </tr>\n",
       "    <tr>\n",
       "      <th>4</th>\n",
       "      <td>find nothing else even gold superintendent aba...</td>\n",
       "      <td>1</td>\n",
       "    </tr>\n",
       "  </tbody>\n",
       "</table>\n",
       "</div>"
      ],
      "text/plain": [
       "                                                text  author\n",
       "0  process however afford mean ascertain dimensio...       0\n",
       "1            never occur fumble might mere mistake .       1\n",
       "2  left hand gold snuff box caper hill cut manner...       0\n",
       "3  lovely spring look windsor terrace sixteen fer...       2\n",
       "4  find nothing else even gold superintendent aba...       1"
      ]
     },
     "execution_count": 11,
     "metadata": {},
     "output_type": "execute_result"
    }
   ],
   "source": [
    "stop = set(stopwords.words('english'))\n",
    "lemmatizer = WordNetLemmatizer()\n",
    "def convert_nltk_to_wordnet(text):\n",
    "#To check if the given word is noun,or a verb or an adjective\n",
    "  if text.startswith('J'):\n",
    "    return wordnet.ADJ\n",
    "  \n",
    "  elif text.startswith('N'):\n",
    "    return wordnet.NOUN\n",
    "\n",
    "  elif text.startswith('V'):\n",
    "    return wordnet.VERB\n",
    "  \n",
    "  elif text.startswith('R'):\n",
    "    return wordnet.ADV\n",
    "  \n",
    "  else:\n",
    "    return None \n",
    " \n",
    "def lemmatizes(sentence):\n",
    "  tagged = nltk.pos_tag(nltk.word_tokenize(sentence))\n",
    "  wordnet_tagged = map(lambda x : (x[0] , convert_nltk_to_wordnet(x[1])) , tagged)\n",
    "  lemmatized_sentence = []\n",
    "  for word , tag in wordnet_tagged:\n",
    "    if tag is None:\n",
    "      lemmatized_sentence.append(word)\n",
    "    else:\n",
    "      lemmatized_sentence.append(lemmatizer.lemmatize(word,tag))\n",
    "  return ' '.join(lemmatized_sentence)\n",
    "\n",
    "def clean(text):\n",
    "\n",
    "  text = re.sub('/.',' ',text)\n",
    "  text = text.lower()\n",
    "  text = re.sub(\"aren't\", \"are not\",text)\n",
    "  text = re.sub(\"can't\",\"cannot\",text)\n",
    "  text = re.sub(\"don't\",\"do not\",text)\n",
    "  text = re.sub(\"couldn't\",\"could not\",text)\n",
    "  text = re.sub(\"doesn't\",\"does not\",text)\n",
    "  text = re.sub(\"hadn't\",\"had not\",text)\n",
    "  text = re.sub(\"wouldn't\",\"would not\",text)\n",
    "  text = re.sub(\"he'll\",\"he will\",text)\n",
    "  text = re.sub(\"what've\",\"what have\",text)\n",
    "  text = re.sub(\"who'd\",\"who would\",text)\n",
    "  text = re.sub(\"who'll\",\"who will\",text)\n",
    "  text = re.sub(\"I'll\",\"I will\",text)\n",
    "  text = re.sub(\"you'd\",\"you would\",text)\n",
    "  text = re.sub(\"you'll\",\"you will\",text)\n",
    "  text = re.sub(\"you're\",\"you are\",text)\n",
    "  text = re.sub(\"you've\",\"you have\",text)\n",
    "  text = re.sub(\"wasn't\",\"was not\",text)\n",
    "  text = re.sub(\"that's\",\"that is\",text)\n",
    "  text = re.sub(\"they've\",\"they have\",text)\n",
    "  text = re.sub(\"they're\",\"they are\",text)\n",
    "  text = re.sub(\"what's\",\"what is\",text)\n",
    "  text = re.sub(\"what're\",\"what are\",text)\n",
    "  text = re.sub(\"what'll\",\"what will\",text)\n",
    "  text = re.sub(\"that's\",\"that is\",text)\n",
    "  text = re.sub(\"there's\",\"there is\",text)\n",
    "  text = re.sub(\"it's\",\"it is\",text)\n",
    "  text = re.sub(\"it'll\",\"it will\",text)\n",
    "  text = re.sub(\"could've\",\"could have\",text)\n",
    "  text = re.sub(\"it'll\",\"it will\",text)\n",
    "  text = re.sub(\"shouldn't\",\"should not\",text)\n",
    "  text = re.sub(\"should've\",\"should have\",text)\n",
    "  text = re.sub(\"shan't\",\"shall not\",text)\n",
    "  text = re.sub(\"won't\",\"will not\",text)\n",
    "  text = re.sub(\"we'd\",\"we would\",text)\n",
    "  text = re.sub(\"weren't\",\"were not\",text)\n",
    "  text = re.sub('[^A-Za-z/.\\s]','',text)\n",
    "  text = text.lower().split()\n",
    "  text = [word for word in text if word not in stop]\n",
    "  text = ' '.join(text)\n",
    "  final_text = lemmatizes(text)\n",
    "  return final_text\n",
    "\n",
    "df_neural['text'] = df_neural['text'].apply(lambda x : clean(x))\n",
    "y = to_categorical(df['author'])\n",
    "df_neural.head()"
   ]
  },
  {
   "cell_type": "code",
   "execution_count": 12,
   "metadata": {},
   "outputs": [],
   "source": [
    "def get_embedding(name,word_index,vocab_len,dim):\n",
    "  embedding_index = {}\n",
    "  f = open(name,encoding='utf-8')\n",
    "  for line in f:\n",
    "    values = line.split()\n",
    "    word = values[0]\n",
    "    coeffs = np.asarray(values[1:],dtype='float32')\n",
    "    embedding_index[word] = coeffs\n",
    "  f.close()\n",
    "  embedding_matrix = np.zeros((vocab_len+1,dim))\n",
    "  for word,index in word_index.items():\n",
    "    if index > vocab_len:\n",
    "      break\n",
    "    else:\n",
    "      embedding_vector = embedding_index.get(word)\n",
    "      if embedding_vector is not None:\n",
    "        embedding_matrix[index] = embedding_vector\n",
    "  return embedding_matrix,embedding_index"
   ]
  },
  {
   "cell_type": "code",
   "execution_count": 13,
   "metadata": {},
   "outputs": [],
   "source": [
    "corpus = np.asarray(df_neural['text'])\n",
    "tokenizer = Tokenizer(num_words=21000)\n",
    "tokenizer.fit_on_texts(corpus)\n",
    "sequences = tokenizer.texts_to_sequences(corpus)\n",
    "data = pad_sequences(sequences=sequences,padding='pre')\n",
    "vocab_len = len(tokenizer.word_index)+1\n",
    "max_len = len(data[0])"
   ]
  },
  {
   "cell_type": "code",
   "execution_count": 14,
   "metadata": {},
   "outputs": [],
   "source": [
    "word_index = tokenizer.word_index\n",
    "embedding_matrix1,embedding_index1 = get_embedding('glove.6B.300d.txt',word_index,vocab_len,300)"
   ]
  },
  {
   "cell_type": "code",
   "execution_count": 15,
   "metadata": {},
   "outputs": [],
   "source": [
    "# Checking if we have word embeddings for the words in our vocab\n",
    "def check_coverage(vocab, embeddings_index):\n",
    "\n",
    "  known_words = {}\n",
    "  unknown_words = {}\n",
    "  nb_known_words = 0\n",
    "  nb_unknown_words = 0\n",
    "  for word in vocab.keys():\n",
    "    try:\n",
    "        known_words[word] = embeddings_index[word]\n",
    "        nb_known_words += vocab[word]\n",
    "    except:\n",
    "        unknown_words[word] = vocab[word]\n",
    "        nb_unknown_words += vocab[word]\n",
    "        pass\n",
    "  print('Found embeddings for {:.3%} of vocab'.format(len(known_words) / len(vocab)))\n",
    "  print('Found embeddings for  {:.3%} of all text'.format(nb_known_words / (nb_known_words + nb_unknown_words)))\n",
    "  unknown_words = sorted(unknown_words.items(), key=operator.itemgetter(1))[::-1]\n",
    "\n",
    "  return unknown_words"
   ]
  },
  {
   "cell_type": "code",
   "execution_count": 16,
   "metadata": {},
   "outputs": [
    {
     "name": "stdout",
     "output_type": "stream",
     "text": [
      "Glove embeddings:\n",
      "\n",
      "Found embeddings for 87.348% of vocab\n",
      "Found embeddings for  82.289% of all text\n",
      "\n",
      "\n"
     ]
    }
   ],
   "source": [
    "print('Glove embeddings:\\n')\n",
    "Glove_embedding = check_coverage(word_index,embedding_index1)\n",
    "print('\\n')"
   ]
  },
  {
   "cell_type": "code",
   "execution_count": 17,
   "metadata": {},
   "outputs": [
    {
     "data": {
      "text/plain": [
       "[('brusquerie', 20245),\n",
       " ('tremulousness', 20238),\n",
       " ('aegidus', 20232),\n",
       " ('valentinianus', 20231),\n",
       " ('btenoir', 20227),\n",
       " ('junianus', 20226),\n",
       " ('littlewit', 20224),\n",
       " ('schweinkopf', 20219),\n",
       " ('apothegm', 20216),\n",
       " ('flatzplatz', 20215),\n",
       " ('literatim', 20211),\n",
       " ('odigies', 20209),\n",
       " ('despera', 20208),\n",
       " ('chinless', 20207),\n",
       " ('herbless', 20202),\n",
       " ('trink', 20201),\n",
       " ('deathful', 20199),\n",
       " ('contemns', 20181),\n",
       " ('servox', 20171),\n",
       " ('unpossessed', 20170),\n",
       " ('signalize', 20153),\n",
       " ('carvins', 20149),\n",
       " ('otaheit', 20146),\n",
       " ('miltonic', 20136),\n",
       " ('rayless', 20135),\n",
       " ('siroc', 20129),\n",
       " ('lascia', 20125),\n",
       " ('raggiar', 20124),\n",
       " ('lombra', 20121),\n",
       " ('othair', 20115)]"
      ]
     },
     "execution_count": 17,
     "metadata": {},
     "output_type": "execute_result"
    }
   ],
   "source": [
    "Glove_embedding[:30]"
   ]
  },
  {
   "cell_type": "code",
   "execution_count": 18,
   "metadata": {},
   "outputs": [
    {
     "data": {
      "text/plain": [
       "(20252, 300)"
      ]
     },
     "execution_count": 18,
     "metadata": {},
     "output_type": "execute_result"
    }
   ],
   "source": [
    "\n",
    "embedding_matrix_weights = embedding_matrix1\n",
    "np.shape(embedding_matrix_weights)"
   ]
  },
  {
   "cell_type": "code",
   "execution_count": 19,
   "metadata": {},
   "outputs": [],
   "source": [
    "# a function to plot the learning curve of the models\n",
    "\n",
    "def plot_learning_curves(histories, model_names):\n",
    "    plt.figure(figsize=(10, 6))\n",
    "    \n",
    "    for i, history in enumerate(histories):\n",
    "        # Extracting training and validation loss from the history object\n",
    "        training_loss = history['loss']\n",
    "        validation_loss = history['val_loss']\n",
    "\n",
    "        # Plotting the training and validation loss for each model\n",
    "        epochs = range(1, len(training_loss) + 1)\n",
    "        plt.plot(epochs, training_loss, label=model_names[i] + ' Training loss')\n",
    "        plt.plot(epochs, validation_loss, label=model_names[i] + ' Validation loss')\n",
    "\n",
    "    plt.title('Training and Validation Loss Comparison')\n",
    "    plt.xlabel('Epochs')\n",
    "    plt.ylabel('Loss')\n",
    "    plt.legend()\n",
    "    plt.show()"
   ]
  },
  {
   "cell_type": "code",
   "execution_count": 20,
   "metadata": {},
   "outputs": [],
   "source": [
    "\n",
    "import pickle\n",
    "\n",
    "def save_history_to_pickle(history, filename):\n",
    "    \"\"\"\n",
    "    Save the training history object to a pickle file.\n",
    "\n",
    "    Parameters:\n",
    "    - history: The training history object returned by model.fit().\n",
    "    - filename: The name of the file to save the history object.\n",
    "    \"\"\"\n",
    "    with open(filename, 'wb') as f:\n",
    "        pickle.dump(history.history, f)\n",
    "    print(f\"Training history saved to '{filename}'.\")\n",
    "\n",
    "# Example usage:\n",
    "# save_history_to_pickle(history, 'model_history.pkl')"
   ]
  },
  {
   "cell_type": "code",
   "execution_count": 21,
   "metadata": {},
   "outputs": [],
   "source": [
    "\n",
    "# Split the data into training ,test and validation set\n",
    "X_train,X_test,y_train,y_test=train_test_split(data,y,test_size=0.2)"
   ]
  },
  {
   "cell_type": "code",
   "execution_count": 22,
   "metadata": {},
   "outputs": [],
   "source": [
    "# using BiDirectional LSTM model\n",
    "\n",
    "def deep_1st():\n",
    "  model_deep = Sequential()\n",
    "  model_deep.add(Embedding(vocab_len+1,300,weights=[embedding_matrix_weights],trainable=True,input_length=max_len))\n",
    "  model_deep.add(SpatialDropout1D(0.2))\n",
    "  model_deep.add(Bidirectional(LSTM(128,input_shape=(64,1),return_sequences = True)))\n",
    "  model_deep.add(Bidirectional(LSTM(64,return_sequences=True)))\n",
    "  model_deep.add(GlobalMaxPool1D())\n",
    "  model_deep.add(Dense(128,activation='relu'))\n",
    "  model_deep.add(Dropout(0.5))\n",
    "  model_deep.add(BatchNormalization())\n",
    "  model_deep.add(Dense(3,activation='softmax'))\n",
    "\n",
    "  callbacks = EarlyStopping(monitor='val_loss',patience=5)\n",
    "\n",
    "  model_deep.compile(optimizer = 'adam',loss='categorical_crossentropy',metrics=['accuracy'])\n",
    "  return model_deep"
   ]
  },
  {
   "cell_type": "code",
   "execution_count": 23,
   "metadata": {},
   "outputs": [
    {
     "name": "stdout",
     "output_type": "stream",
     "text": [
      "1 of KFold 5\n",
      "Epoch 1/8\n",
      "\u001b[1m20/20\u001b[0m \u001b[32m━━━━━━━━━━━━━━━━━━━━\u001b[0m\u001b[37m\u001b[0m \u001b[1m37s\u001b[0m 1s/step - accuracy: 0.4331 - loss: 1.2068 - val_accuracy: 0.5427 - val_loss: 1.0368\n",
      "Epoch 2/8\n",
      "\u001b[1m20/20\u001b[0m \u001b[32m━━━━━━━━━━━━━━━━━━━━\u001b[0m\u001b[37m\u001b[0m \u001b[1m34s\u001b[0m 2s/step - accuracy: 0.6286 - loss: 0.8325 - val_accuracy: 0.5170 - val_loss: 0.9972\n",
      "Epoch 3/8\n",
      "\u001b[1m20/20\u001b[0m \u001b[32m━━━━━━━━━━━━━━━━━━━━\u001b[0m\u001b[37m\u001b[0m \u001b[1m32s\u001b[0m 2s/step - accuracy: 0.7079 - loss: 0.6825 - val_accuracy: 0.4729 - val_loss: 0.9664\n",
      "Epoch 4/8\n",
      "\u001b[1m20/20\u001b[0m \u001b[32m━━━━━━━━━━━━━━━━━━━━\u001b[0m\u001b[37m\u001b[0m \u001b[1m38s\u001b[0m 2s/step - accuracy: 0.7606 - loss: 0.5900 - val_accuracy: 0.5523 - val_loss: 0.9062\n",
      "Epoch 5/8\n",
      "\u001b[1m20/20\u001b[0m \u001b[32m━━━━━━━━━━━━━━━━━━━━\u001b[0m\u001b[37m\u001b[0m \u001b[1m41s\u001b[0m 2s/step - accuracy: 0.8133 - loss: 0.4737 - val_accuracy: 0.6164 - val_loss: 0.8435\n",
      "Epoch 6/8\n",
      "\u001b[1m20/20\u001b[0m \u001b[32m━━━━━━━━━━━━━━━━━━━━\u001b[0m\u001b[37m\u001b[0m \u001b[1m36s\u001b[0m 2s/step - accuracy: 0.8496 - loss: 0.3875 - val_accuracy: 0.7291 - val_loss: 0.7579\n",
      "Epoch 7/8\n",
      "\u001b[1m20/20\u001b[0m \u001b[32m━━━━━━━━━━━━━━━━━━━━\u001b[0m\u001b[37m\u001b[0m \u001b[1m49s\u001b[0m 2s/step - accuracy: 0.8859 - loss: 0.3009 - val_accuracy: 0.7275 - val_loss: 0.6854\n",
      "Epoch 8/8\n",
      "\u001b[1m20/20\u001b[0m \u001b[32m━━━━━━━━━━━━━━━━━━━━\u001b[0m\u001b[37m\u001b[0m \u001b[1m45s\u001b[0m 2s/step - accuracy: 0.9095 - loss: 0.2469 - val_accuracy: 0.7555 - val_loss: 0.6340\n",
      "Training history saved to 'model_1_history.pkl'.\n",
      "\n",
      "\n",
      "\u001b[1m98/98\u001b[0m \u001b[32m━━━━━━━━━━━━━━━━━━━━\u001b[0m\u001b[37m\u001b[0m \u001b[1m9s\u001b[0m 89ms/step - accuracy: 0.7535 - loss: 0.6189\n",
      "Accuracy :   0.7517639398574829\n",
      "\n",
      "\n",
      "2 of KFold 5\n",
      "Epoch 1/8\n",
      "\u001b[1m20/20\u001b[0m \u001b[32m━━━━━━━━━━━━━━━━━━━━\u001b[0m\u001b[37m\u001b[0m \u001b[1m55s\u001b[0m 2s/step - accuracy: 0.4514 - loss: 1.1625 - val_accuracy: 0.5102 - val_loss: 1.0212\n",
      "Epoch 2/8\n",
      "\u001b[1m20/20\u001b[0m \u001b[32m━━━━━━━━━━━━━━━━━━━━\u001b[0m\u001b[37m\u001b[0m \u001b[1m44s\u001b[0m 2s/step - accuracy: 0.6477 - loss: 0.8185 - val_accuracy: 0.5419 - val_loss: 0.9919\n",
      "Epoch 3/8\n",
      "\u001b[1m20/20\u001b[0m \u001b[32m━━━━━━━━━━━━━━━━━━━━\u001b[0m\u001b[37m\u001b[0m \u001b[1m41s\u001b[0m 2s/step - accuracy: 0.7160 - loss: 0.6687 - val_accuracy: 0.5868 - val_loss: 0.9507\n",
      "Epoch 4/8\n",
      "\u001b[1m20/20\u001b[0m \u001b[32m━━━━━━━━━━━━━━━━━━━━\u001b[0m\u001b[37m\u001b[0m \u001b[1m35s\u001b[0m 2s/step - accuracy: 0.7620 - loss: 0.5749 - val_accuracy: 0.6244 - val_loss: 0.8928\n",
      "Epoch 5/8\n",
      "\u001b[1m20/20\u001b[0m \u001b[32m━━━━━━━━━━━━━━━━━━━━\u001b[0m\u001b[37m\u001b[0m \u001b[1m53s\u001b[0m 3s/step - accuracy: 0.8141 - loss: 0.4745 - val_accuracy: 0.7014 - val_loss: 0.8116\n",
      "Epoch 6/8\n",
      "\u001b[1m20/20\u001b[0m \u001b[32m━━━━━━━━━━━━━━━━━━━━\u001b[0m\u001b[37m\u001b[0m \u001b[1m38s\u001b[0m 2s/step - accuracy: 0.8570 - loss: 0.3732 - val_accuracy: 0.7066 - val_loss: 0.7545\n",
      "Epoch 7/8\n",
      "\u001b[1m20/20\u001b[0m \u001b[32m━━━━━━━━━━━━━━━━━━━━\u001b[0m\u001b[37m\u001b[0m \u001b[1m30s\u001b[0m 2s/step - accuracy: 0.8894 - loss: 0.2917 - val_accuracy: 0.7723 - val_loss: 0.6559\n",
      "Epoch 8/8\n",
      "\u001b[1m20/20\u001b[0m \u001b[32m━━━━━━━━━━━━━━━━━━━━\u001b[0m\u001b[37m\u001b[0m \u001b[1m32s\u001b[0m 2s/step - accuracy: 0.9072 - loss: 0.2519 - val_accuracy: 0.7764 - val_loss: 0.6146\n",
      "Training history saved to 'model_1_history.pkl'.\n",
      "\n",
      "\n",
      "\u001b[1m98/98\u001b[0m \u001b[32m━━━━━━━━━━━━━━━━━━━━\u001b[0m\u001b[37m\u001b[0m \u001b[1m6s\u001b[0m 60ms/step - accuracy: 0.7801 - loss: 0.6067\n",
      "Accuracy :   0.7799871563911438\n",
      "\n",
      "\n",
      "3 of KFold 5\n",
      "Epoch 1/8\n",
      "\u001b[1m20/20\u001b[0m \u001b[32m━━━━━━━━━━━━━━━━━━━━\u001b[0m\u001b[37m\u001b[0m \u001b[1m44s\u001b[0m 2s/step - accuracy: 0.4439 - loss: 1.1765 - val_accuracy: 0.5198 - val_loss: 1.0367\n",
      "Epoch 2/8\n",
      "\u001b[1m20/20\u001b[0m \u001b[32m━━━━━━━━━━━━━━━━━━━━\u001b[0m\u001b[37m\u001b[0m \u001b[1m33s\u001b[0m 2s/step - accuracy: 0.6308 - loss: 0.8353 - val_accuracy: 0.4798 - val_loss: 0.9903\n",
      "Epoch 3/8\n",
      "\u001b[1m20/20\u001b[0m \u001b[32m━━━━━━━━━━━━━━━━━━━━\u001b[0m\u001b[37m\u001b[0m \u001b[1m39s\u001b[0m 2s/step - accuracy: 0.7082 - loss: 0.6902 - val_accuracy: 0.5214 - val_loss: 0.9497\n",
      "Epoch 4/8\n",
      "\u001b[1m20/20\u001b[0m \u001b[32m━━━━━━━━━━━━━━━━━━━━\u001b[0m\u001b[37m\u001b[0m \u001b[1m43s\u001b[0m 2s/step - accuracy: 0.7632 - loss: 0.5745 - val_accuracy: 0.6641 - val_loss: 0.8791\n",
      "Epoch 5/8\n",
      "\u001b[1m20/20\u001b[0m \u001b[32m━━━━━━━━━━━━━━━━━━━━\u001b[0m\u001b[37m\u001b[0m \u001b[1m42s\u001b[0m 2s/step - accuracy: 0.8243 - loss: 0.4548 - val_accuracy: 0.6998 - val_loss: 0.8112\n",
      "Epoch 6/8\n",
      "\u001b[1m20/20\u001b[0m \u001b[32m━━━━━━━━━━━━━━━━━━━━\u001b[0m\u001b[37m\u001b[0m \u001b[1m90s\u001b[0m 3s/step - accuracy: 0.8530 - loss: 0.3816 - val_accuracy: 0.7279 - val_loss: 0.7484\n",
      "Epoch 7/8\n",
      "\u001b[1m20/20\u001b[0m \u001b[32m━━━━━━━━━━━━━━━━━━━━\u001b[0m\u001b[37m\u001b[0m \u001b[1m38s\u001b[0m 2s/step - accuracy: 0.8795 - loss: 0.3164 - val_accuracy: 0.7607 - val_loss: 0.6708\n",
      "Epoch 8/8\n",
      "\u001b[1m20/20\u001b[0m \u001b[32m━━━━━━━━━━━━━━━━━━━━\u001b[0m\u001b[37m\u001b[0m \u001b[1m32s\u001b[0m 2s/step - accuracy: 0.9057 - loss: 0.2548 - val_accuracy: 0.7723 - val_loss: 0.6083\n",
      "Training history saved to 'model_1_history.pkl'.\n",
      "\n",
      "\n",
      "\u001b[1m98/98\u001b[0m \u001b[32m━━━━━━━━━━━━━━━━━━━━\u001b[0m\u001b[37m\u001b[0m \u001b[1m6s\u001b[0m 57ms/step - accuracy: 0.7491 - loss: 0.6064\n",
      "Accuracy :   0.7623476386070251\n",
      "\n",
      "\n",
      "4 of KFold 5\n",
      "Epoch 1/8\n",
      "\u001b[1m20/20\u001b[0m \u001b[32m━━━━━━━━━━━━━━━━━━━━\u001b[0m\u001b[37m\u001b[0m \u001b[1m39s\u001b[0m 2s/step - accuracy: 0.4454 - loss: 1.1664 - val_accuracy: 0.5828 - val_loss: 1.0318\n",
      "Epoch 2/8\n",
      "\u001b[1m20/20\u001b[0m \u001b[32m━━━━━━━━━━━━━━━━━━━━\u001b[0m\u001b[37m\u001b[0m \u001b[1m30s\u001b[0m 2s/step - accuracy: 0.6259 - loss: 0.8470 - val_accuracy: 0.5715 - val_loss: 0.9879\n",
      "Epoch 3/8\n",
      "\u001b[1m20/20\u001b[0m \u001b[32m━━━━━━━━━━━━━━━━━━━━\u001b[0m\u001b[37m\u001b[0m \u001b[1m39s\u001b[0m 2s/step - accuracy: 0.7130 - loss: 0.6871 - val_accuracy: 0.5651 - val_loss: 0.9522\n",
      "Epoch 4/8\n",
      "\u001b[1m20/20\u001b[0m \u001b[32m━━━━━━━━━━━━━━━━━━━━\u001b[0m\u001b[37m\u001b[0m \u001b[1m37s\u001b[0m 2s/step - accuracy: 0.7726 - loss: 0.5675 - val_accuracy: 0.6601 - val_loss: 0.8862\n",
      "Epoch 5/8\n",
      "\u001b[1m20/20\u001b[0m \u001b[32m━━━━━━━━━━━━━━━━━━━━\u001b[0m\u001b[37m\u001b[0m \u001b[1m43s\u001b[0m 2s/step - accuracy: 0.8227 - loss: 0.4600 - val_accuracy: 0.7094 - val_loss: 0.8075\n",
      "Epoch 6/8\n",
      "\u001b[1m20/20\u001b[0m \u001b[32m━━━━━━━━━━━━━━━━━━━━\u001b[0m\u001b[37m\u001b[0m \u001b[1m33s\u001b[0m 2s/step - accuracy: 0.8576 - loss: 0.3767 - val_accuracy: 0.7467 - val_loss: 0.7213\n",
      "Epoch 7/8\n",
      "\u001b[1m20/20\u001b[0m \u001b[32m━━━━━━━━━━━━━━━━━━━━\u001b[0m\u001b[37m\u001b[0m \u001b[1m30s\u001b[0m 2s/step - accuracy: 0.8828 - loss: 0.3125 - val_accuracy: 0.7363 - val_loss: 0.6814\n",
      "Epoch 8/8\n",
      "\u001b[1m20/20\u001b[0m \u001b[32m━━━━━━━━━━━━━━━━━━━━\u001b[0m\u001b[37m\u001b[0m \u001b[1m31s\u001b[0m 2s/step - accuracy: 0.9077 - loss: 0.2503 - val_accuracy: 0.7663 - val_loss: 0.6084\n",
      "Training history saved to 'model_1_history.pkl'.\n",
      "\n",
      "\n",
      "\u001b[1m98/98\u001b[0m \u001b[32m━━━━━━━━━━━━━━━━━━━━\u001b[0m\u001b[37m\u001b[0m \u001b[1m6s\u001b[0m 62ms/step - accuracy: 0.7703 - loss: 0.5921\n",
      "Accuracy :   0.7774214148521423\n",
      "\n",
      "\n",
      "5 of KFold 5\n",
      "Epoch 1/8\n",
      "\u001b[1m20/20\u001b[0m \u001b[32m━━━━━━━━━━━━━━━━━━━━\u001b[0m\u001b[37m\u001b[0m \u001b[1m43s\u001b[0m 2s/step - accuracy: 0.4492 - loss: 1.1417 - val_accuracy: 0.4958 - val_loss: 1.0298\n",
      "Epoch 2/8\n",
      "\u001b[1m20/20\u001b[0m \u001b[32m━━━━━━━━━━━━━━━━━━━━\u001b[0m\u001b[37m\u001b[0m \u001b[1m30s\u001b[0m 1s/step - accuracy: 0.6293 - loss: 0.8417 - val_accuracy: 0.5723 - val_loss: 0.9998\n",
      "Epoch 3/8\n",
      "\u001b[1m20/20\u001b[0m \u001b[32m━━━━━━━━━━━━━━━━━━━━\u001b[0m\u001b[37m\u001b[0m \u001b[1m30s\u001b[0m 1s/step - accuracy: 0.7011 - loss: 0.7112 - val_accuracy: 0.5852 - val_loss: 0.9482\n",
      "Epoch 4/8\n",
      "\u001b[1m20/20\u001b[0m \u001b[32m━━━━━━━━━━━━━━━━━━━━\u001b[0m\u001b[37m\u001b[0m \u001b[1m28s\u001b[0m 1s/step - accuracy: 0.7615 - loss: 0.5794 - val_accuracy: 0.6353 - val_loss: 0.8768\n",
      "Epoch 5/8\n",
      "\u001b[1m20/20\u001b[0m \u001b[32m━━━━━━━━━━━━━━━━━━━━\u001b[0m\u001b[37m\u001b[0m \u001b[1m28s\u001b[0m 1s/step - accuracy: 0.8138 - loss: 0.4779 - val_accuracy: 0.6834 - val_loss: 0.8142\n",
      "Epoch 6/8\n",
      "\u001b[1m20/20\u001b[0m \u001b[32m━━━━━━━━━━━━━━━━━━━━\u001b[0m\u001b[37m\u001b[0m \u001b[1m30s\u001b[0m 2s/step - accuracy: 0.8533 - loss: 0.3751 - val_accuracy: 0.7202 - val_loss: 0.7344\n",
      "Epoch 7/8\n",
      "\u001b[1m20/20\u001b[0m \u001b[32m━━━━━━━━━━━━━━━━━━━━\u001b[0m\u001b[37m\u001b[0m \u001b[1m41s\u001b[0m 2s/step - accuracy: 0.8831 - loss: 0.3107 - val_accuracy: 0.7595 - val_loss: 0.6668\n",
      "Epoch 8/8\n",
      "\u001b[1m20/20\u001b[0m \u001b[32m━━━━━━━━━━━━━━━━━━━━\u001b[0m\u001b[37m\u001b[0m \u001b[1m35s\u001b[0m 2s/step - accuracy: 0.9056 - loss: 0.2565 - val_accuracy: 0.7832 - val_loss: 0.6022\n",
      "Training history saved to 'model_1_history.pkl'.\n",
      "\n",
      "\n",
      "\u001b[1m98/98\u001b[0m \u001b[32m━━━━━━━━━━━━━━━━━━━━\u001b[0m\u001b[37m\u001b[0m \u001b[1m6s\u001b[0m 59ms/step - accuracy: 0.7760 - loss: 0.5999\n",
      "Accuracy :   0.7735728025436401\n",
      "\n",
      "\n"
     ]
    }
   ],
   "source": [
    "kfold = StratifiedKFold(n_splits=5,shuffle=True)\n",
    "i=1\n",
    "score=[]\n",
    "for train_index , test_index in kfold.split(X_train,y_train.argmax(1)):\n",
    "    print(f'{i} of KFold {kfold.n_splits}')\n",
    "    X_train1,X_test1 = X_train[train_index],X_train[test_index]\n",
    "    y_train1,y_test1 = y_train[train_index],y_train[test_index]\n",
    "    model_1 = deep_1st()\n",
    "    history = model_1.fit(X_train1,y_train1,batch_size=512,epochs=8,validation_split=0.2)\n",
    "    save_history_to_pickle(history, 'model_1_history.pkl')\n",
    "    print('\\n')\n",
    "    acc = model_1.evaluate(X_test1,y_test1)\n",
    "    print('Accuracy :  ',acc[1])\n",
    "    score.append(acc[1])\n",
    "    print('\\n')\n",
    "    i+=1"
   ]
  },
  {
   "cell_type": "code",
   "execution_count": 24,
   "metadata": {},
   "outputs": [
    {
     "name": "stdout",
     "output_type": "stream",
     "text": [
      "\u001b[1m122/122\u001b[0m \u001b[32m━━━━━━━━━━━━━━━━━━━━\u001b[0m\u001b[37m\u001b[0m \u001b[1m8s\u001b[0m 63ms/step\n",
      "              precision    recall  f1-score   support\n",
      "\n",
      "           0       0.72      0.89      0.79      1591\n",
      "           1       0.82      0.74      0.78      1141\n",
      "           2       0.87      0.67      0.76      1166\n",
      "\n",
      "    accuracy                           0.78      3898\n",
      "   macro avg       0.80      0.77      0.78      3898\n",
      "weighted avg       0.79      0.78      0.78      3898\n",
      "\n"
     ]
    }
   ],
   "source": [
    "pred = model_1.predict(X_test)\n",
    "\n",
    "print(classification_report(y_test.argmax(1),pred.argmax(1)))"
   ]
  },
  {
   "cell_type": "markdown",
   "metadata": {},
   "source": [
    "Since the training data set is small , it is preferred to put trainable = False, Let's see what happens if trainable=True"
   ]
  },
  {
   "cell_type": "code",
   "execution_count": 28,
   "metadata": {},
   "outputs": [],
   "source": [
    "def model_true():\n",
    "\n",
    "  inp = Input(shape=(max_len,))\n",
    "  x = Embedding(vocab_len+1, 300, weights=[embedding_matrix_weights], trainable=True)(inp)\n",
    "  x = SpatialDropout1D(0.3)(x)\n",
    "  x1 = Bidirectional(LSTM(256, return_sequences=True))(x)\n",
    "  x2 = Bidirectional(GRU(128, return_sequences=True))(x1)\n",
    "  max_pool1 = GlobalMaxPool1D()(x1)\n",
    "  max_pool2 = GlobalMaxPool1D()(x2)\n",
    "  conc = concatenate([max_pool1, max_pool2])\n",
    "  x = Dense(128,activation='relu')(conc)\n",
    "  x = Dropout(0.5)(x)\n",
    "  predictions = Dense(3, activation='softmax')(x)\n",
    "\n",
    "  model = Model(inputs=inp, outputs=predictions)\n",
    "  callbacks = EarlyStopping(monitor='val_loss',patience=3)\n",
    "\n",
    "  from tensorflow.keras.optimizers import Adam,RMSprop\n",
    "  adam = Adam()\n",
    "  model.compile(optimizer=adam, loss='categorical_crossentropy', metrics=['accuracy'])\n",
    "  return model"
   ]
  },
  {
   "cell_type": "code",
   "execution_count": 30,
   "metadata": {},
   "outputs": [
    {
     "name": "stdout",
     "output_type": "stream",
     "text": [
      "1 of KFold 5\n",
      "Epoch 1/5\n",
      "\u001b[1m78/78\u001b[0m \u001b[32m━━━━━━━━━━━━━━━━━━━━\u001b[0m\u001b[37m\u001b[0m \u001b[1m105s\u001b[0m 1s/step - accuracy: 0.5065 - loss: 0.9795 - val_accuracy: 0.7162 - val_loss: 0.6968\n",
      "Epoch 2/5\n",
      "\u001b[1m78/78\u001b[0m \u001b[32m━━━━━━━━━━━━━━━━━━━━\u001b[0m\u001b[37m\u001b[0m \u001b[1m104s\u001b[0m 1s/step - accuracy: 0.7295 - loss: 0.6560 - val_accuracy: 0.7567 - val_loss: 0.5917\n",
      "Epoch 3/5\n",
      "\u001b[1m78/78\u001b[0m \u001b[32m━━━━━━━━━━━━━━━━━━━━\u001b[0m\u001b[37m\u001b[0m \u001b[1m100s\u001b[0m 1s/step - accuracy: 0.8238 - loss: 0.4643 - val_accuracy: 0.7804 - val_loss: 0.5402\n",
      "Epoch 4/5\n",
      "\u001b[1m78/78\u001b[0m \u001b[32m━━━━━━━━━━━━━━━━━━━━\u001b[0m\u001b[37m\u001b[0m \u001b[1m107s\u001b[0m 1s/step - accuracy: 0.8764 - loss: 0.3182 - val_accuracy: 0.7888 - val_loss: 0.5493\n",
      "Epoch 5/5\n",
      "\u001b[1m78/78\u001b[0m \u001b[32m━━━━━━━━━━━━━━━━━━━━\u001b[0m\u001b[37m\u001b[0m \u001b[1m109s\u001b[0m 1s/step - accuracy: 0.9149 - loss: 0.2298 - val_accuracy: 0.7972 - val_loss: 0.5800\n",
      "Training history saved to 'model_2_history.pkl'.\n",
      "\n",
      "\n",
      "\u001b[1m98/98\u001b[0m \u001b[32m━━━━━━━━━━━━━━━━━━━━\u001b[0m\u001b[37m\u001b[0m \u001b[1m13s\u001b[0m 136ms/step - accuracy: 0.7901 - loss: 0.5934\n",
      "Accuracy:   0.7844772338867188\n",
      "2 of KFold 5\n",
      "Epoch 1/5\n",
      "\u001b[1m78/78\u001b[0m \u001b[32m━━━━━━━━━━━━━━━━━━━━\u001b[0m\u001b[37m\u001b[0m \u001b[1m128s\u001b[0m 2s/step - accuracy: 0.5168 - loss: 0.9746 - val_accuracy: 0.6966 - val_loss: 0.7193\n",
      "Epoch 2/5\n",
      "\u001b[1m78/78\u001b[0m \u001b[32m━━━━━━━━━━━━━━━━━━━━\u001b[0m\u001b[37m\u001b[0m \u001b[1m107s\u001b[0m 1s/step - accuracy: 0.7302 - loss: 0.6501 - val_accuracy: 0.7671 - val_loss: 0.5871\n",
      "Epoch 3/5\n",
      "\u001b[1m78/78\u001b[0m \u001b[32m━━━━━━━━━━━━━━━━━━━━\u001b[0m\u001b[37m\u001b[0m \u001b[1m119s\u001b[0m 2s/step - accuracy: 0.8242 - loss: 0.4569 - val_accuracy: 0.7812 - val_loss: 0.5463\n",
      "Epoch 4/5\n",
      "\u001b[1m78/78\u001b[0m \u001b[32m━━━━━━━━━━━━━━━━━━━━\u001b[0m\u001b[37m\u001b[0m \u001b[1m113s\u001b[0m 1s/step - accuracy: 0.8734 - loss: 0.3353 - val_accuracy: 0.7928 - val_loss: 0.5668\n",
      "Epoch 5/5\n",
      "\u001b[1m78/78\u001b[0m \u001b[32m━━━━━━━━━━━━━━━━━━━━\u001b[0m\u001b[37m\u001b[0m \u001b[1m137s\u001b[0m 2s/step - accuracy: 0.9094 - loss: 0.2528 - val_accuracy: 0.8056 - val_loss: 0.5435\n",
      "Training history saved to 'model_2_history.pkl'.\n",
      "\n",
      "\n",
      "\u001b[1m98/98\u001b[0m \u001b[32m━━━━━━━━━━━━━━━━━━━━\u001b[0m\u001b[37m\u001b[0m \u001b[1m19s\u001b[0m 193ms/step - accuracy: 0.7958 - loss: 0.5520\n",
      "Accuracy:   0.7886465787887573\n",
      "3 of KFold 5\n",
      "Epoch 1/5\n",
      "\u001b[1m78/78\u001b[0m \u001b[32m━━━━━━━━━━━━━━━━━━━━\u001b[0m\u001b[37m\u001b[0m \u001b[1m138s\u001b[0m 2s/step - accuracy: 0.5178 - loss: 0.9764 - val_accuracy: 0.6625 - val_loss: 0.7607\n",
      "Epoch 2/5\n",
      "\u001b[1m78/78\u001b[0m \u001b[32m━━━━━━━━━━━━━━━━━━━━\u001b[0m\u001b[37m\u001b[0m \u001b[1m123s\u001b[0m 2s/step - accuracy: 0.7323 - loss: 0.6515 - val_accuracy: 0.7471 - val_loss: 0.6078\n",
      "Epoch 3/5\n",
      "\u001b[1m78/78\u001b[0m \u001b[32m━━━━━━━━━━━━━━━━━━━━\u001b[0m\u001b[37m\u001b[0m \u001b[1m131s\u001b[0m 2s/step - accuracy: 0.8214 - loss: 0.4600 - val_accuracy: 0.7659 - val_loss: 0.5647\n",
      "Epoch 4/5\n",
      "\u001b[1m78/78\u001b[0m \u001b[32m━━━━━━━━━━━━━━━━━━━━\u001b[0m\u001b[37m\u001b[0m \u001b[1m113s\u001b[0m 1s/step - accuracy: 0.8788 - loss: 0.3312 - val_accuracy: 0.7784 - val_loss: 0.6107\n",
      "Epoch 5/5\n",
      "\u001b[1m78/78\u001b[0m \u001b[32m━━━━━━━━━━━━━━━━━━━━\u001b[0m\u001b[37m\u001b[0m \u001b[1m112s\u001b[0m 1s/step - accuracy: 0.9168 - loss: 0.2360 - val_accuracy: 0.7812 - val_loss: 0.5930\n",
      "Training history saved to 'model_2_history.pkl'.\n",
      "\n",
      "\n",
      "\u001b[1m98/98\u001b[0m \u001b[32m━━━━━━━━━━━━━━━━━━━━\u001b[0m\u001b[37m\u001b[0m \u001b[1m15s\u001b[0m 151ms/step - accuracy: 0.7905 - loss: 0.5903\n",
      "Accuracy:   0.7940987944602966\n",
      "4 of KFold 5\n",
      "Epoch 1/5\n",
      "\u001b[1m78/78\u001b[0m \u001b[32m━━━━━━━━━━━━━━━━━━━━\u001b[0m\u001b[37m\u001b[0m \u001b[1m116s\u001b[0m 1s/step - accuracy: 0.5183 - loss: 0.9735 - val_accuracy: 0.6894 - val_loss: 0.7401\n",
      "Epoch 2/5\n",
      "\u001b[1m78/78\u001b[0m \u001b[32m━━━━━━━━━━━━━━━━━━━━\u001b[0m\u001b[37m\u001b[0m \u001b[1m111s\u001b[0m 1s/step - accuracy: 0.7369 - loss: 0.6564 - val_accuracy: 0.7355 - val_loss: 0.6311\n",
      "Epoch 3/5\n",
      "\u001b[1m78/78\u001b[0m \u001b[32m━━━━━━━━━━━━━━━━━━━━\u001b[0m\u001b[37m\u001b[0m \u001b[1m112s\u001b[0m 1s/step - accuracy: 0.8183 - loss: 0.4655 - val_accuracy: 0.7715 - val_loss: 0.5597\n",
      "Epoch 4/5\n",
      "\u001b[1m78/78\u001b[0m \u001b[32m━━━━━━━━━━━━━━━━━━━━\u001b[0m\u001b[37m\u001b[0m \u001b[1m106s\u001b[0m 1s/step - accuracy: 0.8703 - loss: 0.3352 - val_accuracy: 0.7776 - val_loss: 0.5774\n",
      "Epoch 5/5\n",
      "\u001b[1m78/78\u001b[0m \u001b[32m━━━━━━━━━━━━━━━━━━━━\u001b[0m\u001b[37m\u001b[0m \u001b[1m97s\u001b[0m 1s/step - accuracy: 0.9104 - loss: 0.2470 - val_accuracy: 0.7796 - val_loss: 0.6099\n",
      "Training history saved to 'model_2_history.pkl'.\n",
      "\n",
      "\n",
      "\u001b[1m98/98\u001b[0m \u001b[32m━━━━━━━━━━━━━━━━━━━━\u001b[0m\u001b[37m\u001b[0m \u001b[1m13s\u001b[0m 129ms/step - accuracy: 0.7857 - loss: 0.6092\n",
      "Accuracy:   0.7953816652297974\n",
      "5 of KFold 5\n",
      "Epoch 1/5\n",
      "\u001b[1m78/78\u001b[0m \u001b[32m━━━━━━━━━━━━━━━━━━━━\u001b[0m\u001b[37m\u001b[0m \u001b[1m118s\u001b[0m 1s/step - accuracy: 0.5181 - loss: 0.9732 - val_accuracy: 0.6657 - val_loss: 0.7583\n",
      "Epoch 2/5\n",
      "\u001b[1m78/78\u001b[0m \u001b[32m━━━━━━━━━━━━━━━━━━━━\u001b[0m\u001b[37m\u001b[0m \u001b[1m108s\u001b[0m 1s/step - accuracy: 0.7247 - loss: 0.6575 - val_accuracy: 0.7415 - val_loss: 0.6086\n",
      "Epoch 3/5\n",
      "\u001b[1m78/78\u001b[0m \u001b[32m━━━━━━━━━━━━━━━━━━━━\u001b[0m\u001b[37m\u001b[0m \u001b[1m108s\u001b[0m 1s/step - accuracy: 0.8150 - loss: 0.4725 - val_accuracy: 0.7752 - val_loss: 0.5622\n",
      "Epoch 4/5\n",
      "\u001b[1m78/78\u001b[0m \u001b[32m━━━━━━━━━━━━━━━━━━━━\u001b[0m\u001b[37m\u001b[0m \u001b[1m107s\u001b[0m 1s/step - accuracy: 0.8691 - loss: 0.3371 - val_accuracy: 0.7856 - val_loss: 0.5836\n",
      "Epoch 5/5\n",
      "\u001b[1m78/78\u001b[0m \u001b[32m━━━━━━━━━━━━━━━━━━━━\u001b[0m\u001b[37m\u001b[0m \u001b[1m669s\u001b[0m 9s/step - accuracy: 0.9134 - loss: 0.2413 - val_accuracy: 0.7824 - val_loss: 0.6236\n",
      "Training history saved to 'model_2_history.pkl'.\n",
      "\n",
      "\n",
      "\u001b[1m98/98\u001b[0m \u001b[32m━━━━━━━━━━━━━━━━━━━━\u001b[0m\u001b[37m\u001b[0m \u001b[1m16s\u001b[0m 168ms/step - accuracy: 0.7932 - loss: 0.5901\n",
      "Accuracy:   0.7973059415817261\n"
     ]
    }
   ],
   "source": [
    "kfold=StratifiedKFold(n_splits=5,shuffle=True)\n",
    "score=[]\n",
    "i=1\n",
    "for train_index , test_index in kfold.split(X_train,y_train.argmax(1)):\n",
    "    print(f'{i} of KFold {kfold.n_splits}')\n",
    "    X_train_main,X_val = X_train[train_index],X_train[test_index]\n",
    "    y_train_main,y_val = y_train[train_index],y_train[test_index]\n",
    "    model_2nd = model_true()\n",
    "    history = model_2nd.fit(X_train_main,y_train_main,epochs=5,batch_size=128,validation_split=0.2)\n",
    "    save_history_to_pickle(history, 'model_2_history.pkl')\n",
    "    print('\\n')\n",
    "    acc = model_2nd.evaluate(X_val,y_val)\n",
    "    score.append(acc[1])\n",
    "    print('Accuracy:  ',acc[1])\n",
    "    i+=1"
   ]
  },
  {
   "cell_type": "code",
   "execution_count": 31,
   "metadata": {},
   "outputs": [
    {
     "name": "stdout",
     "output_type": "stream",
     "text": [
      "Accuracy :   0.7919820427894593\n"
     ]
    }
   ],
   "source": [
    "print('Accuracy :  ',np.mean(score))"
   ]
  },
  {
   "cell_type": "code",
   "execution_count": 32,
   "metadata": {},
   "outputs": [
    {
     "name": "stdout",
     "output_type": "stream",
     "text": [
      "\u001b[1m122/122\u001b[0m \u001b[32m━━━━━━━━━━━━━━━━━━━━\u001b[0m\u001b[37m\u001b[0m \u001b[1m22s\u001b[0m 173ms/step\n",
      "              precision    recall  f1-score   support\n",
      "\n",
      "           0       0.79      0.78      0.78      1591\n",
      "           1       0.83      0.75      0.79      1141\n",
      "           2       0.75      0.83      0.79      1166\n",
      "\n",
      "    accuracy                           0.79      3898\n",
      "   macro avg       0.79      0.79      0.79      3898\n",
      "weighted avg       0.79      0.79      0.79      3898\n",
      "\n"
     ]
    }
   ],
   "source": [
    "pred_2 = model_2nd.predict(X_test)\n",
    "\n",
    "print(classification_report(y_test.argmax(1),pred_2.argmax(1)))"
   ]
  },
  {
   "cell_type": "markdown",
   "metadata": {},
   "source": [
    "The new complex performs the same as our previous model with an accuracy of 85%, and it seems that the recall of some of the classes are better"
   ]
  },
  {
   "cell_type": "markdown",
   "metadata": {},
   "source": [
    "The learning curve of Model 1 shows a sign of underfitting because the validation loss is greater than the training loss. Further configuration of layers is needed to reduce the loss incured during training. "
   ]
  },
  {
   "cell_type": "code",
   "execution_count": 34,
   "metadata": {},
   "outputs": [],
   "source": [
    "def model_3():\n",
    "\n",
    "  sequence_input = Input(shape=(max_len,))\n",
    "  embedding_layer = Embedding(vocab_len+1,300,weights=[embedding_matrix_weights],trainable = True,input_length=max_len)\n",
    "  x = embedding_layer(sequence_input)\n",
    "  x = SpatialDropout1D(0.2)(x)\n",
    "  x = Bidirectional(LSTM(128,return_sequences=True))(x)\n",
    "  x = Conv1D(64,kernel_size=2,padding='valid',kernel_initializer=\"he_uniform\")(x)\n",
    "  avg_pool = GlobalAvgPool1D()(x)\n",
    "  max_pool = GlobalMaxPool1D()(x)\n",
    "  x = concatenate([avg_pool,max_pool])\n",
    "  x = Dense(128,activation='relu')(x)\n",
    "  x = Dropout(0.5)(x)\n",
    "  pred = Dense(3,activation='softmax')(x)\n",
    "\n",
    "  model_3 = Model(sequence_input, pred)\n",
    "  model_3.compile(optimizer='rmsprop',loss='categorical_crossentropy',metrics=['accuracy'])\n",
    "  return model_3"
   ]
  },
  {
   "cell_type": "code",
   "execution_count": 35,
   "metadata": {},
   "outputs": [
    {
     "name": "stdout",
     "output_type": "stream",
     "text": [
      "1 of KFold 5\n",
      "Epoch 1/5\n",
      "\u001b[1m20/20\u001b[0m \u001b[32m━━━━━━━━━━━━━━━━━━━━\u001b[0m\u001b[37m\u001b[0m \u001b[1m33s\u001b[0m 1s/step - accuracy: 0.4410 - loss: 1.0513 - val_accuracy: 0.6224 - val_loss: 0.8896\n",
      "Epoch 2/5\n",
      "\u001b[1m20/20\u001b[0m \u001b[32m━━━━━━━━━━━━━━━━━━━━\u001b[0m\u001b[37m\u001b[0m \u001b[1m20s\u001b[0m 1s/step - accuracy: 0.5834 - loss: 0.9055 - val_accuracy: 0.6465 - val_loss: 0.8117\n",
      "Epoch 3/5\n",
      "\u001b[1m20/20\u001b[0m \u001b[32m━━━━━━━━━━━━━━━━━━━━\u001b[0m\u001b[37m\u001b[0m \u001b[1m22s\u001b[0m 1s/step - accuracy: 0.6372 - loss: 0.8280 - val_accuracy: 0.6265 - val_loss: 0.8212\n",
      "Epoch 4/5\n",
      "\u001b[1m20/20\u001b[0m \u001b[32m━━━━━━━━━━━━━━━━━━━━\u001b[0m\u001b[37m\u001b[0m \u001b[1m24s\u001b[0m 1s/step - accuracy: 0.6566 - loss: 0.7885 - val_accuracy: 0.6729 - val_loss: 0.7511\n",
      "Epoch 5/5\n",
      "\u001b[1m20/20\u001b[0m \u001b[32m━━━━━━━━━━━━━━━━━━━━\u001b[0m\u001b[37m\u001b[0m \u001b[1m23s\u001b[0m 1s/step - accuracy: 0.6955 - loss: 0.7223 - val_accuracy: 0.6713 - val_loss: 0.7554\n",
      "Training history saved to 'model_3_history.pkl'.\n",
      "\n",
      "\n",
      "\u001b[1m98/98\u001b[0m \u001b[32m━━━━━━━━━━━━━━━━━━━━\u001b[0m\u001b[37m\u001b[0m \u001b[1m6s\u001b[0m 66ms/step - accuracy: 0.6850 - loss: 0.7381\n",
      "\n",
      "\n",
      "Accuracy:   0.693072497844696\n",
      "2 of KFold 5\n",
      "Epoch 1/5\n",
      "\u001b[1m20/20\u001b[0m \u001b[32m━━━━━━━━━━━━━━━━━━━━\u001b[0m\u001b[37m\u001b[0m \u001b[1m26s\u001b[0m 1s/step - accuracy: 0.4136 - loss: 1.0716 - val_accuracy: 0.5924 - val_loss: 0.9078\n",
      "Epoch 2/5\n",
      "\u001b[1m20/20\u001b[0m \u001b[32m━━━━━━━━━━━━━━━━━━━━\u001b[0m\u001b[37m\u001b[0m \u001b[1m23s\u001b[0m 1s/step - accuracy: 0.5717 - loss: 0.9234 - val_accuracy: 0.6401 - val_loss: 0.8301\n",
      "Epoch 3/5\n",
      "\u001b[1m20/20\u001b[0m \u001b[32m━━━━━━━━━━━━━━━━━━━━\u001b[0m\u001b[37m\u001b[0m \u001b[1m20s\u001b[0m 995ms/step - accuracy: 0.6321 - loss: 0.8298 - val_accuracy: 0.6417 - val_loss: 0.8133\n",
      "Epoch 4/5\n",
      "\u001b[1m20/20\u001b[0m \u001b[32m━━━━━━━━━━━━━━━━━━━━\u001b[0m\u001b[37m\u001b[0m \u001b[1m19s\u001b[0m 969ms/step - accuracy: 0.6525 - loss: 0.7958 - val_accuracy: 0.5900 - val_loss: 0.8761\n",
      "Epoch 5/5\n",
      "\u001b[1m20/20\u001b[0m \u001b[32m━━━━━━━━━━━━━━━━━━━━\u001b[0m\u001b[37m\u001b[0m \u001b[1m20s\u001b[0m 985ms/step - accuracy: 0.6799 - loss: 0.7612 - val_accuracy: 0.6762 - val_loss: 0.7418\n",
      "Training history saved to 'model_3_history.pkl'.\n",
      "\n",
      "\n",
      "\u001b[1m98/98\u001b[0m \u001b[32m━━━━━━━━━━━━━━━━━━━━\u001b[0m\u001b[37m\u001b[0m \u001b[1m6s\u001b[0m 56ms/step - accuracy: 0.6932 - loss: 0.7259\n",
      "\n",
      "\n",
      "Accuracy:   0.6905067563056946\n",
      "3 of KFold 5\n",
      "Epoch 1/5\n",
      "\u001b[1m20/20\u001b[0m \u001b[32m━━━━━━━━━━━━━━━━━━━━\u001b[0m\u001b[37m\u001b[0m \u001b[1m25s\u001b[0m 1s/step - accuracy: 0.4106 - loss: 1.0802 - val_accuracy: 0.5908 - val_loss: 0.9262\n",
      "Epoch 2/5\n",
      "\u001b[1m20/20\u001b[0m \u001b[32m━━━━━━━━━━━━━━━━━━━━\u001b[0m\u001b[37m\u001b[0m \u001b[1m20s\u001b[0m 1000ms/step - accuracy: 0.5950 - loss: 0.9089 - val_accuracy: 0.6261 - val_loss: 0.8353\n",
      "Epoch 3/5\n",
      "\u001b[1m20/20\u001b[0m \u001b[32m━━━━━━━━━━━━━━━━━━━━\u001b[0m\u001b[37m\u001b[0m \u001b[1m20s\u001b[0m 979ms/step - accuracy: 0.6346 - loss: 0.8297 - val_accuracy: 0.6369 - val_loss: 0.8171\n",
      "Epoch 4/5\n",
      "\u001b[1m20/20\u001b[0m \u001b[32m━━━━━━━━━━━━━━━━━━━━\u001b[0m\u001b[37m\u001b[0m \u001b[1m20s\u001b[0m 992ms/step - accuracy: 0.6615 - loss: 0.7838 - val_accuracy: 0.6649 - val_loss: 0.7663\n",
      "Epoch 5/5\n",
      "\u001b[1m20/20\u001b[0m \u001b[32m━━━━━━━━━━━━━━━━━━━━\u001b[0m\u001b[37m\u001b[0m \u001b[1m20s\u001b[0m 1s/step - accuracy: 0.6952 - loss: 0.7266 - val_accuracy: 0.6413 - val_loss: 0.7908\n",
      "Training history saved to 'model_3_history.pkl'.\n",
      "\n",
      "\n",
      "\u001b[1m98/98\u001b[0m \u001b[32m━━━━━━━━━━━━━━━━━━━━\u001b[0m\u001b[37m\u001b[0m \u001b[1m6s\u001b[0m 60ms/step - accuracy: 0.6560 - loss: 0.7822\n",
      "\n",
      "\n",
      "Accuracy:   0.6642078161239624\n",
      "4 of KFold 5\n",
      "Epoch 1/5\n",
      "\u001b[1m20/20\u001b[0m \u001b[32m━━━━━━━━━━━━━━━━━━━━\u001b[0m\u001b[37m\u001b[0m \u001b[1m26s\u001b[0m 1s/step - accuracy: 0.4283 - loss: 1.0660 - val_accuracy: 0.5495 - val_loss: 0.9177\n",
      "Epoch 2/5\n",
      "\u001b[1m20/20\u001b[0m \u001b[32m━━━━━━━━━━━━━━━━━━━━\u001b[0m\u001b[37m\u001b[0m \u001b[1m20s\u001b[0m 990ms/step - accuracy: 0.5758 - loss: 0.9084 - val_accuracy: 0.5964 - val_loss: 0.8836\n",
      "Epoch 3/5\n",
      "\u001b[1m20/20\u001b[0m \u001b[32m━━━━━━━━━━━━━━━━━━━━\u001b[0m\u001b[37m\u001b[0m \u001b[1m20s\u001b[0m 985ms/step - accuracy: 0.6129 - loss: 0.8546 - val_accuracy: 0.6625 - val_loss: 0.7797\n",
      "Epoch 4/5\n",
      "\u001b[1m20/20\u001b[0m \u001b[32m━━━━━━━━━━━━━━━━━━━━\u001b[0m\u001b[37m\u001b[0m \u001b[1m20s\u001b[0m 984ms/step - accuracy: 0.6724 - loss: 0.7687 - val_accuracy: 0.6842 - val_loss: 0.7442\n",
      "Epoch 5/5\n",
      "\u001b[1m20/20\u001b[0m \u001b[32m━━━━━━━━━━━━━━━━━━━━\u001b[0m\u001b[37m\u001b[0m \u001b[1m19s\u001b[0m 962ms/step - accuracy: 0.6875 - loss: 0.7424 - val_accuracy: 0.6689 - val_loss: 0.7500\n",
      "Training history saved to 'model_3_history.pkl'.\n",
      "\n",
      "\n",
      "\u001b[1m98/98\u001b[0m \u001b[32m━━━━━━━━━━━━━━━━━━━━\u001b[0m\u001b[37m\u001b[0m \u001b[1m6s\u001b[0m 58ms/step - accuracy: 0.6688 - loss: 0.7680\n",
      "\n",
      "\n",
      "Accuracy:   0.6686978936195374\n",
      "5 of KFold 5\n",
      "Epoch 1/5\n",
      "\u001b[1m20/20\u001b[0m \u001b[32m━━━━━━━━━━━━━━━━━━━━\u001b[0m\u001b[37m\u001b[0m \u001b[1m25s\u001b[0m 1s/step - accuracy: 0.4230 - loss: 1.0649 - val_accuracy: 0.5792 - val_loss: 0.9091\n",
      "Epoch 2/5\n",
      "\u001b[1m20/20\u001b[0m \u001b[32m━━━━━━━━━━━━━━━━━━━━\u001b[0m\u001b[37m\u001b[0m \u001b[1m19s\u001b[0m 970ms/step - accuracy: 0.5527 - loss: 0.9468 - val_accuracy: 0.6297 - val_loss: 0.8280\n",
      "Epoch 3/5\n",
      "\u001b[1m20/20\u001b[0m \u001b[32m━━━━━━━━━━━━━━━━━━━━\u001b[0m\u001b[37m\u001b[0m \u001b[1m19s\u001b[0m 975ms/step - accuracy: 0.6273 - loss: 0.8409 - val_accuracy: 0.6289 - val_loss: 0.8206\n",
      "Epoch 4/5\n",
      "\u001b[1m20/20\u001b[0m \u001b[32m━━━━━━━━━━━━━━━━━━━━\u001b[0m\u001b[37m\u001b[0m \u001b[1m19s\u001b[0m 958ms/step - accuracy: 0.6609 - loss: 0.7860 - val_accuracy: 0.6457 - val_loss: 0.8012\n",
      "Epoch 5/5\n",
      "\u001b[1m20/20\u001b[0m \u001b[32m━━━━━━━━━━━━━━━━━━━━\u001b[0m\u001b[37m\u001b[0m \u001b[1m20s\u001b[0m 994ms/step - accuracy: 0.6772 - loss: 0.7522 - val_accuracy: 0.6705 - val_loss: 0.7573\n",
      "Training history saved to 'model_3_history.pkl'.\n",
      "\n",
      "\n",
      "\u001b[1m98/98\u001b[0m \u001b[32m━━━━━━━━━━━━━━━━━━━━\u001b[0m\u001b[37m\u001b[0m \u001b[1m6s\u001b[0m 59ms/step - accuracy: 0.6868 - loss: 0.7180\n",
      "\n",
      "\n",
      "Accuracy:   0.6831302046775818\n"
     ]
    }
   ],
   "source": [
    "kfold=StratifiedKFold(n_splits=5,shuffle=True)\n",
    "i=1\n",
    "score=[]\n",
    "for train_index , test_index in kfold.split(X_train,y_train.argmax(1)):\n",
    "    print(f'{i} of KFold {kfold.n_splits}')\n",
    "    X_train_main,X_val = X_train[train_index],X_train[test_index]\n",
    "    y_train_main,y_val = y_train[train_index],y_train[test_index]\n",
    "    model_3rd = model_3()\n",
    "    history = model_3rd.fit(X_train_main,y_train_main,epochs=5,batch_size=512,validation_split=0.2)\n",
    "    save_history_to_pickle(history, 'model_3_history.pkl')\n",
    "    print('\\n')\n",
    "    acc = model_3rd.evaluate(X_val,y_val)\n",
    "    score.append(acc[1])\n",
    "    print('\\n')\n",
    "    print('Accuracy:  ',acc[1])\n",
    "    i+=1"
   ]
  },
  {
   "cell_type": "code",
   "execution_count": 36,
   "metadata": {},
   "outputs": [
    {
     "name": "stdout",
     "output_type": "stream",
     "text": [
      "\u001b[1m122/122\u001b[0m \u001b[32m━━━━━━━━━━━━━━━━━━━━\u001b[0m\u001b[37m\u001b[0m \u001b[1m8s\u001b[0m 62ms/step\n",
      "              precision    recall  f1-score   support\n",
      "\n",
      "           0       0.77      0.58      0.66      1591\n",
      "           1       0.65      0.71      0.68      1141\n",
      "           2       0.61      0.77      0.68      1166\n",
      "\n",
      "    accuracy                           0.67      3898\n",
      "   macro avg       0.68      0.69      0.67      3898\n",
      "weighted avg       0.69      0.67      0.67      3898\n",
      "\n"
     ]
    }
   ],
   "source": [
    "pred = model_3rd.predict(X_test)\n",
    "\n",
    "print(classification_report(y_test.argmax(1),pred.argmax(1)))"
   ]
  },
  {
   "cell_type": "code",
   "execution_count": 37,
   "metadata": {},
   "outputs": [],
   "source": [
    "def model_4():\n",
    "\n",
    "  inp = Input(shape=(max_len,))\n",
    "  embedding_layer = Embedding(vocab_len+1,300,weights=[embedding_matrix_weights],trainable=True)\n",
    "  x = embedding_layer(inp)\n",
    "  x = SpatialDropout1D(0.2)(x)\n",
    "  x1 = Bidirectional(LSTM(64,return_sequences=True))(x)\n",
    "  x1 = Conv1D(64 ,kernel_size=3,padding='same',activation='linear')(x1)\n",
    "  x1 = BatchNormalization()(x1)\n",
    "  x1 = Conv1D(64,kernel_size=3,padding='same',activation='linear')(x1)\n",
    "  x1 = BatchNormalization()(x1)\n",
    "  x2 = Conv1D(64,kernel_size=1,padding='same',activation='linear')(x)\n",
    "  xmain = concatenate([x1,x2])\n",
    "  xmain1 = Conv1D(64,kernel_size=3,padding='same',activation='linear')(xmain)\n",
    "  xmain1 = BatchNormalization()(xmain1)\n",
    "  xmain1 = Conv1D(64,kernel_size=3,padding='same',activation='linear')(xmain1)\n",
    "  xmain1 = BatchNormalization()(xmain1)\n",
    "  x = concatenate([xmain,xmain1])\n",
    "  x = GlobalMaxPool1D()(x)\n",
    "  x = Dense(182,activation='relu')(x)\n",
    "  x = BatchNormalization()(x)\n",
    "  x = Dropout(0.5)(x)\n",
    "  x = Dense(3,activation = 'softmax')(x)\n",
    "\n",
    "  model_last = Model(inp,x)\n",
    "  model_last.compile(optimizer = tf.keras.optimizers.Adam(learning_rate=0.001),loss='categorical_crossentropy',metrics=['accuracy'])\n",
    "  return model_last"
   ]
  },
  {
   "cell_type": "code",
   "execution_count": 38,
   "metadata": {},
   "outputs": [
    {
     "name": "stdout",
     "output_type": "stream",
     "text": [
      "1 of KFold 5\n",
      "Epoch 1/5\n",
      "\u001b[1m78/78\u001b[0m \u001b[32m━━━━━━━━━━━━━━━━━━━━\u001b[0m\u001b[37m\u001b[0m \u001b[1m54s\u001b[0m 570ms/step - accuracy: 0.4615 - loss: 1.3949 - val_accuracy: 0.5339 - val_loss: 0.9455\n",
      "Epoch 2/5\n",
      "\u001b[1m78/78\u001b[0m \u001b[32m━━━━━━━━━━━━━━━━━━━━\u001b[0m\u001b[37m\u001b[0m \u001b[1m43s\u001b[0m 550ms/step - accuracy: 0.6318 - loss: 0.8768 - val_accuracy: 0.6341 - val_loss: 0.8270\n",
      "Epoch 3/5\n",
      "\u001b[1m78/78\u001b[0m \u001b[32m━━━━━━━━━━━━━━━━━━━━\u001b[0m\u001b[37m\u001b[0m \u001b[1m40s\u001b[0m 511ms/step - accuracy: 0.7307 - loss: 0.6595 - val_accuracy: 0.7118 - val_loss: 0.7174\n",
      "Epoch 4/5\n",
      "\u001b[1m78/78\u001b[0m \u001b[32m━━━━━━━━━━━━━━━━━━━━\u001b[0m\u001b[37m\u001b[0m \u001b[1m37s\u001b[0m 479ms/step - accuracy: 0.8112 - loss: 0.4712 - val_accuracy: 0.7307 - val_loss: 0.6516\n",
      "Epoch 5/5\n",
      "\u001b[1m78/78\u001b[0m \u001b[32m━━━━━━━━━━━━━━━━━━━━\u001b[0m\u001b[37m\u001b[0m \u001b[1m37s\u001b[0m 475ms/step - accuracy: 0.8581 - loss: 0.3569 - val_accuracy: 0.7595 - val_loss: 0.6039\n",
      "Training history saved to 'model_4_history.pkl'.\n",
      "\n",
      "\n",
      "\u001b[1m98/98\u001b[0m \u001b[32m━━━━━━━━━━━━━━━━━━━━\u001b[0m\u001b[37m\u001b[0m \u001b[1m5s\u001b[0m 49ms/step - accuracy: 0.7505 - loss: 0.6039\n",
      "\n",
      "\n",
      "Accuracy:   0.7527260780334473\n",
      "2 of KFold 5\n",
      "Epoch 1/5\n",
      "\u001b[1m78/78\u001b[0m \u001b[32m━━━━━━━━━━━━━━━━━━━━\u001b[0m\u001b[37m\u001b[0m \u001b[1m43s\u001b[0m 456ms/step - accuracy: 0.4563 - loss: 1.3565 - val_accuracy: 0.5607 - val_loss: 0.9538\n",
      "Epoch 2/5\n",
      "\u001b[1m78/78\u001b[0m \u001b[32m━━━━━━━━━━━━━━━━━━━━\u001b[0m\u001b[37m\u001b[0m \u001b[1m35s\u001b[0m 445ms/step - accuracy: 0.6427 - loss: 0.8569 - val_accuracy: 0.5968 - val_loss: 0.8798\n",
      "Epoch 3/5\n",
      "\u001b[1m78/78\u001b[0m \u001b[32m━━━━━━━━━━━━━━━━━━━━\u001b[0m\u001b[37m\u001b[0m \u001b[1m35s\u001b[0m 446ms/step - accuracy: 0.7438 - loss: 0.6178 - val_accuracy: 0.6365 - val_loss: 0.8349\n",
      "Epoch 4/5\n",
      "\u001b[1m78/78\u001b[0m \u001b[32m━━━━━━━━━━━━━━━━━━━━\u001b[0m\u001b[37m\u001b[0m \u001b[1m35s\u001b[0m 445ms/step - accuracy: 0.8162 - loss: 0.4669 - val_accuracy: 0.7182 - val_loss: 0.6521\n",
      "Epoch 5/5\n",
      "\u001b[1m78/78\u001b[0m \u001b[32m━━━━━━━━━━━━━━━━━━━━\u001b[0m\u001b[37m\u001b[0m \u001b[1m36s\u001b[0m 463ms/step - accuracy: 0.8719 - loss: 0.3456 - val_accuracy: 0.7399 - val_loss: 0.6471\n",
      "Training history saved to 'model_4_history.pkl'.\n",
      "\n",
      "\n",
      "\u001b[1m98/98\u001b[0m \u001b[32m━━━━━━━━━━━━━━━━━━━━\u001b[0m\u001b[37m\u001b[0m \u001b[1m5s\u001b[0m 46ms/step - accuracy: 0.7431 - loss: 0.6318\n",
      "\n",
      "\n",
      "Accuracy:   0.7459909915924072\n",
      "3 of KFold 5\n",
      "Epoch 1/5\n",
      "\u001b[1m78/78\u001b[0m \u001b[32m━━━━━━━━━━━━━━━━━━━━\u001b[0m\u001b[37m\u001b[0m \u001b[1m42s\u001b[0m 454ms/step - accuracy: 0.4420 - loss: 1.4008 - val_accuracy: 0.5743 - val_loss: 0.9345\n",
      "Epoch 2/5\n",
      "\u001b[1m78/78\u001b[0m \u001b[32m━━━━━━━━━━━━━━━━━━━━\u001b[0m\u001b[37m\u001b[0m \u001b[1m33s\u001b[0m 423ms/step - accuracy: 0.6384 - loss: 0.8521 - val_accuracy: 0.5639 - val_loss: 0.9169\n",
      "Epoch 3/5\n",
      "\u001b[1m78/78\u001b[0m \u001b[32m━━━━━━━━━━━━━━━━━━━━\u001b[0m\u001b[37m\u001b[0m \u001b[1m34s\u001b[0m 441ms/step - accuracy: 0.7293 - loss: 0.6510 - val_accuracy: 0.6641 - val_loss: 0.7725\n",
      "Epoch 4/5\n",
      "\u001b[1m78/78\u001b[0m \u001b[32m━━━━━━━━━━━━━━━━━━━━\u001b[0m\u001b[37m\u001b[0m \u001b[1m34s\u001b[0m 435ms/step - accuracy: 0.8016 - loss: 0.4885 - val_accuracy: 0.6898 - val_loss: 0.7485\n",
      "Epoch 5/5\n",
      "\u001b[1m78/78\u001b[0m \u001b[32m━━━━━━━━━━━━━━━━━━━━\u001b[0m\u001b[37m\u001b[0m \u001b[1m34s\u001b[0m 436ms/step - accuracy: 0.8641 - loss: 0.3587 - val_accuracy: 0.7603 - val_loss: 0.5885\n",
      "Training history saved to 'model_4_history.pkl'.\n",
      "\n",
      "\n",
      "\u001b[1m98/98\u001b[0m \u001b[32m━━━━━━━━━━━━━━━━━━━━\u001b[0m\u001b[37m\u001b[0m \u001b[1m4s\u001b[0m 41ms/step - accuracy: 0.7607 - loss: 0.5478\n",
      "\n",
      "\n",
      "Accuracy:   0.7761385440826416\n",
      "4 of KFold 5\n",
      "Epoch 1/5\n",
      "\u001b[1m78/78\u001b[0m \u001b[32m━━━━━━━━━━━━━━━━━━━━\u001b[0m\u001b[37m\u001b[0m \u001b[1m43s\u001b[0m 454ms/step - accuracy: 0.4378 - loss: 1.4224 - val_accuracy: 0.5010 - val_loss: 0.9740\n",
      "Epoch 2/5\n",
      "\u001b[1m78/78\u001b[0m \u001b[32m━━━━━━━━━━━━━━━━━━━━\u001b[0m\u001b[37m\u001b[0m \u001b[1m34s\u001b[0m 435ms/step - accuracy: 0.6388 - loss: 0.8526 - val_accuracy: 0.6806 - val_loss: 0.7977\n",
      "Epoch 3/5\n",
      "\u001b[1m78/78\u001b[0m \u001b[32m━━━━━━━━━━━━━━━━━━━━\u001b[0m\u001b[37m\u001b[0m \u001b[1m34s\u001b[0m 438ms/step - accuracy: 0.7391 - loss: 0.6307 - val_accuracy: 0.6228 - val_loss: 0.8489\n",
      "Epoch 4/5\n",
      "\u001b[1m78/78\u001b[0m \u001b[32m━━━━━━━━━━━━━━━━━━━━\u001b[0m\u001b[37m\u001b[0m \u001b[1m35s\u001b[0m 442ms/step - accuracy: 0.8137 - loss: 0.4667 - val_accuracy: 0.7206 - val_loss: 0.6519\n",
      "Epoch 5/5\n",
      "\u001b[1m78/78\u001b[0m \u001b[32m━━━━━━━━━━━━━━━━━━━━\u001b[0m\u001b[37m\u001b[0m \u001b[1m34s\u001b[0m 439ms/step - accuracy: 0.8725 - loss: 0.3412 - val_accuracy: 0.6926 - val_loss: 0.7222\n",
      "Training history saved to 'model_4_history.pkl'.\n",
      "\n",
      "\n",
      "\u001b[1m98/98\u001b[0m \u001b[32m━━━━━━━━━━━━━━━━━━━━\u001b[0m\u001b[37m\u001b[0m \u001b[1m3s\u001b[0m 32ms/step - accuracy: 0.6952 - loss: 0.7568\n",
      "\n",
      "\n",
      "Accuracy:   0.6853752136230469\n",
      "5 of KFold 5\n",
      "Epoch 1/5\n",
      "\u001b[1m78/78\u001b[0m \u001b[32m━━━━━━━━━━━━━━━━━━━━\u001b[0m\u001b[37m\u001b[0m \u001b[1m44s\u001b[0m 466ms/step - accuracy: 0.4469 - loss: 1.4403 - val_accuracy: 0.5840 - val_loss: 0.9190\n",
      "Epoch 2/5\n",
      "\u001b[1m78/78\u001b[0m \u001b[32m━━━━━━━━━━━━━━━━━━━━\u001b[0m\u001b[37m\u001b[0m \u001b[1m35s\u001b[0m 448ms/step - accuracy: 0.6143 - loss: 0.8935 - val_accuracy: 0.5671 - val_loss: 0.9204\n",
      "Epoch 3/5\n",
      "\u001b[1m78/78\u001b[0m \u001b[32m━━━━━━━━━━━━━━━━━━━━\u001b[0m\u001b[37m\u001b[0m \u001b[1m35s\u001b[0m 450ms/step - accuracy: 0.7186 - loss: 0.6745 - val_accuracy: 0.6200 - val_loss: 0.8722\n",
      "Epoch 4/5\n",
      "\u001b[1m78/78\u001b[0m \u001b[32m━━━━━━━━━━━━━━━━━━━━\u001b[0m\u001b[37m\u001b[0m \u001b[1m35s\u001b[0m 452ms/step - accuracy: 0.7998 - loss: 0.5095 - val_accuracy: 0.6970 - val_loss: 0.7179\n",
      "Epoch 5/5\n",
      "\u001b[1m78/78\u001b[0m \u001b[32m━━━━━━━━━━━━━━━━━━━━\u001b[0m\u001b[37m\u001b[0m \u001b[1m35s\u001b[0m 448ms/step - accuracy: 0.8610 - loss: 0.3579 - val_accuracy: 0.7419 - val_loss: 0.6202\n",
      "Training history saved to 'model_4_history.pkl'.\n",
      "\n",
      "\n",
      "\u001b[1m98/98\u001b[0m \u001b[32m━━━━━━━━━━━━━━━━━━━━\u001b[0m\u001b[37m\u001b[0m \u001b[1m3s\u001b[0m 34ms/step - accuracy: 0.7401 - loss: 0.6130\n",
      "\n",
      "\n",
      "Accuracy:   0.7504810690879822\n"
     ]
    }
   ],
   "source": [
    "kfold=StratifiedKFold(n_splits=5,shuffle=True)\n",
    "i=1\n",
    "score=[]\n",
    "for train_index , test_index in kfold.split(X_train,y_train.argmax(1)):\n",
    "    print(f'{i} of KFold {kfold.n_splits}')\n",
    "    X_train_main,X_val = X_train[train_index],X_train[test_index]\n",
    "    y_train_main,y_val = y_train[train_index],y_train[test_index]\n",
    "    model_4th = model_4()\n",
    "    history = model_4th.fit(X_train_main,y_train_main,epochs=5,batch_size=128,validation_split=0.2)\n",
    "    save_history_to_pickle(history, 'model_4_history.pkl')\n",
    "    print('\\n')\n",
    "    acc = model_4th.evaluate(X_val,y_val)\n",
    "    score.append(acc[1])\n",
    "    print('\\n')\n",
    "    print('Accuracy:  ',acc[1])\n",
    "    i+=1\n",
    "     "
   ]
  },
  {
   "cell_type": "code",
   "execution_count": 39,
   "metadata": {},
   "outputs": [
    {
     "name": "stdout",
     "output_type": "stream",
     "text": [
      "Accuracy :   0.742142379283905\n"
     ]
    }
   ],
   "source": [
    "print('Accuracy :  ' , np.mean(score))"
   ]
  },
  {
   "cell_type": "code",
   "execution_count": 40,
   "metadata": {},
   "outputs": [
    {
     "name": "stdout",
     "output_type": "stream",
     "text": [
      "\u001b[1m122/122\u001b[0m \u001b[32m━━━━━━━━━━━━━━━━━━━━\u001b[0m\u001b[37m\u001b[0m \u001b[1m5s\u001b[0m 38ms/step\n",
      "              precision    recall  f1-score   support\n",
      "\n",
      "           0       0.69      0.85      0.76      1591\n",
      "           1       0.90      0.58      0.71      1141\n",
      "           2       0.74      0.78      0.76      1166\n",
      "\n",
      "    accuracy                           0.75      3898\n",
      "   macro avg       0.78      0.74      0.74      3898\n",
      "weighted avg       0.77      0.75      0.75      3898\n",
      "\n"
     ]
    }
   ],
   "source": [
    "pred = model_4th.predict(X_test)\n",
    "\n",
    "print(classification_report(y_test.argmax(1),pred.argmax(1)))"
   ]
  },
  {
   "cell_type": "code",
   "execution_count": 41,
   "metadata": {},
   "outputs": [
    {
     "data": {
      "text/html": [
       "<pre style=\"white-space:pre;overflow-x:auto;line-height:normal;font-family:Menlo,'DejaVu Sans Mono',consolas,'Courier New',monospace\"><span style=\"font-weight: bold\">Model: \"functional_36\"</span>\n",
       "</pre>\n"
      ],
      "text/plain": [
       "\u001b[1mModel: \"functional_36\"\u001b[0m\n"
      ]
     },
     "metadata": {},
     "output_type": "display_data"
    },
    {
     "data": {
      "text/html": [
       "<pre style=\"white-space:pre;overflow-x:auto;line-height:normal;font-family:Menlo,'DejaVu Sans Mono',consolas,'Courier New',monospace\">┏━━━━━━━━━━━━━━━━━━━━━┳━━━━━━━━━━━━━━━━━━━┳━━━━━━━━━━━━┳━━━━━━━━━━━━━━━━━━━┓\n",
       "┃<span style=\"font-weight: bold\"> Layer (type)        </span>┃<span style=\"font-weight: bold\"> Output Shape      </span>┃<span style=\"font-weight: bold\">    Param # </span>┃<span style=\"font-weight: bold\"> Connected to      </span>┃\n",
       "┡━━━━━━━━━━━━━━━━━━━━━╇━━━━━━━━━━━━━━━━━━━╇━━━━━━━━━━━━╇━━━━━━━━━━━━━━━━━━━┩\n",
       "│ input_layer_20      │ (<span style=\"color: #00d7ff; text-decoration-color: #00d7ff\">None</span>, <span style=\"color: #00af00; text-decoration-color: #00af00\">64</span>)        │          <span style=\"color: #00af00; text-decoration-color: #00af00\">0</span> │ -                 │\n",
       "│ (<span style=\"color: #0087ff; text-decoration-color: #0087ff\">InputLayer</span>)        │                   │            │                   │\n",
       "├─────────────────────┼───────────────────┼────────────┼───────────────────┤\n",
       "│ embedding_20        │ (<span style=\"color: #00d7ff; text-decoration-color: #00d7ff\">None</span>, <span style=\"color: #00af00; text-decoration-color: #00af00\">64</span>, <span style=\"color: #00af00; text-decoration-color: #00af00\">300</span>)   │  <span style=\"color: #00af00; text-decoration-color: #00af00\">6,075,600</span> │ input_layer_20[<span style=\"color: #00af00; text-decoration-color: #00af00\">0</span>… │\n",
       "│ (<span style=\"color: #0087ff; text-decoration-color: #0087ff\">Embedding</span>)         │                   │            │                   │\n",
       "├─────────────────────┼───────────────────┼────────────┼───────────────────┤\n",
       "│ spatial_dropout1d_… │ (<span style=\"color: #00d7ff; text-decoration-color: #00d7ff\">None</span>, <span style=\"color: #00af00; text-decoration-color: #00af00\">64</span>, <span style=\"color: #00af00; text-decoration-color: #00af00\">300</span>)   │          <span style=\"color: #00af00; text-decoration-color: #00af00\">0</span> │ embedding_20[<span style=\"color: #00af00; text-decoration-color: #00af00\">0</span>][<span style=\"color: #00af00; text-decoration-color: #00af00\">…</span> │\n",
       "│ (<span style=\"color: #0087ff; text-decoration-color: #0087ff\">SpatialDropout1D</span>)  │                   │            │                   │\n",
       "├─────────────────────┼───────────────────┼────────────┼───────────────────┤\n",
       "│ bidirectional_31    │ (<span style=\"color: #00d7ff; text-decoration-color: #00d7ff\">None</span>, <span style=\"color: #00af00; text-decoration-color: #00af00\">64</span>, <span style=\"color: #00af00; text-decoration-color: #00af00\">128</span>)   │    <span style=\"color: #00af00; text-decoration-color: #00af00\">186,880</span> │ spatial_dropout1… │\n",
       "│ (<span style=\"color: #0087ff; text-decoration-color: #0087ff\">Bidirectional</span>)     │                   │            │                   │\n",
       "├─────────────────────┼───────────────────┼────────────┼───────────────────┤\n",
       "│ conv1d_25 (<span style=\"color: #0087ff; text-decoration-color: #0087ff\">Conv1D</span>)  │ (<span style=\"color: #00d7ff; text-decoration-color: #00d7ff\">None</span>, <span style=\"color: #00af00; text-decoration-color: #00af00\">64</span>, <span style=\"color: #00af00; text-decoration-color: #00af00\">64</span>)    │     <span style=\"color: #00af00; text-decoration-color: #00af00\">24,640</span> │ bidirectional_31… │\n",
       "├─────────────────────┼───────────────────┼────────────┼───────────────────┤\n",
       "│ batch_normalizatio… │ (<span style=\"color: #00d7ff; text-decoration-color: #00d7ff\">None</span>, <span style=\"color: #00af00; text-decoration-color: #00af00\">64</span>, <span style=\"color: #00af00; text-decoration-color: #00af00\">64</span>)    │        <span style=\"color: #00af00; text-decoration-color: #00af00\">256</span> │ conv1d_25[<span style=\"color: #00af00; text-decoration-color: #00af00\">0</span>][<span style=\"color: #00af00; text-decoration-color: #00af00\">0</span>]   │\n",
       "│ (<span style=\"color: #0087ff; text-decoration-color: #0087ff\">BatchNormalizatio…</span> │                   │            │                   │\n",
       "├─────────────────────┼───────────────────┼────────────┼───────────────────┤\n",
       "│ conv1d_26 (<span style=\"color: #0087ff; text-decoration-color: #0087ff\">Conv1D</span>)  │ (<span style=\"color: #00d7ff; text-decoration-color: #00d7ff\">None</span>, <span style=\"color: #00af00; text-decoration-color: #00af00\">64</span>, <span style=\"color: #00af00; text-decoration-color: #00af00\">64</span>)    │     <span style=\"color: #00af00; text-decoration-color: #00af00\">12,352</span> │ batch_normalizat… │\n",
       "├─────────────────────┼───────────────────┼────────────┼───────────────────┤\n",
       "│ batch_normalizatio… │ (<span style=\"color: #00d7ff; text-decoration-color: #00d7ff\">None</span>, <span style=\"color: #00af00; text-decoration-color: #00af00\">64</span>, <span style=\"color: #00af00; text-decoration-color: #00af00\">64</span>)    │        <span style=\"color: #00af00; text-decoration-color: #00af00\">256</span> │ conv1d_26[<span style=\"color: #00af00; text-decoration-color: #00af00\">0</span>][<span style=\"color: #00af00; text-decoration-color: #00af00\">0</span>]   │\n",
       "│ (<span style=\"color: #0087ff; text-decoration-color: #0087ff\">BatchNormalizatio…</span> │                   │            │                   │\n",
       "├─────────────────────┼───────────────────┼────────────┼───────────────────┤\n",
       "│ conv1d_27 (<span style=\"color: #0087ff; text-decoration-color: #0087ff\">Conv1D</span>)  │ (<span style=\"color: #00d7ff; text-decoration-color: #00d7ff\">None</span>, <span style=\"color: #00af00; text-decoration-color: #00af00\">64</span>, <span style=\"color: #00af00; text-decoration-color: #00af00\">64</span>)    │     <span style=\"color: #00af00; text-decoration-color: #00af00\">19,264</span> │ spatial_dropout1… │\n",
       "├─────────────────────┼───────────────────┼────────────┼───────────────────┤\n",
       "│ concatenate_19      │ (<span style=\"color: #00d7ff; text-decoration-color: #00d7ff\">None</span>, <span style=\"color: #00af00; text-decoration-color: #00af00\">64</span>, <span style=\"color: #00af00; text-decoration-color: #00af00\">128</span>)   │          <span style=\"color: #00af00; text-decoration-color: #00af00\">0</span> │ batch_normalizat… │\n",
       "│ (<span style=\"color: #0087ff; text-decoration-color: #0087ff\">Concatenate</span>)       │                   │            │ conv1d_27[<span style=\"color: #00af00; text-decoration-color: #00af00\">0</span>][<span style=\"color: #00af00; text-decoration-color: #00af00\">0</span>]   │\n",
       "├─────────────────────┼───────────────────┼────────────┼───────────────────┤\n",
       "│ conv1d_28 (<span style=\"color: #0087ff; text-decoration-color: #0087ff\">Conv1D</span>)  │ (<span style=\"color: #00d7ff; text-decoration-color: #00d7ff\">None</span>, <span style=\"color: #00af00; text-decoration-color: #00af00\">64</span>, <span style=\"color: #00af00; text-decoration-color: #00af00\">64</span>)    │     <span style=\"color: #00af00; text-decoration-color: #00af00\">24,640</span> │ concatenate_19[<span style=\"color: #00af00; text-decoration-color: #00af00\">0</span>… │\n",
       "├─────────────────────┼───────────────────┼────────────┼───────────────────┤\n",
       "│ batch_normalizatio… │ (<span style=\"color: #00d7ff; text-decoration-color: #00d7ff\">None</span>, <span style=\"color: #00af00; text-decoration-color: #00af00\">64</span>, <span style=\"color: #00af00; text-decoration-color: #00af00\">64</span>)    │        <span style=\"color: #00af00; text-decoration-color: #00af00\">256</span> │ conv1d_28[<span style=\"color: #00af00; text-decoration-color: #00af00\">0</span>][<span style=\"color: #00af00; text-decoration-color: #00af00\">0</span>]   │\n",
       "│ (<span style=\"color: #0087ff; text-decoration-color: #0087ff\">BatchNormalizatio…</span> │                   │            │                   │\n",
       "├─────────────────────┼───────────────────┼────────────┼───────────────────┤\n",
       "│ conv1d_29 (<span style=\"color: #0087ff; text-decoration-color: #0087ff\">Conv1D</span>)  │ (<span style=\"color: #00d7ff; text-decoration-color: #00d7ff\">None</span>, <span style=\"color: #00af00; text-decoration-color: #00af00\">64</span>, <span style=\"color: #00af00; text-decoration-color: #00af00\">64</span>)    │     <span style=\"color: #00af00; text-decoration-color: #00af00\">12,352</span> │ batch_normalizat… │\n",
       "├─────────────────────┼───────────────────┼────────────┼───────────────────┤\n",
       "│ batch_normalizatio… │ (<span style=\"color: #00d7ff; text-decoration-color: #00d7ff\">None</span>, <span style=\"color: #00af00; text-decoration-color: #00af00\">64</span>, <span style=\"color: #00af00; text-decoration-color: #00af00\">64</span>)    │        <span style=\"color: #00af00; text-decoration-color: #00af00\">256</span> │ conv1d_29[<span style=\"color: #00af00; text-decoration-color: #00af00\">0</span>][<span style=\"color: #00af00; text-decoration-color: #00af00\">0</span>]   │\n",
       "│ (<span style=\"color: #0087ff; text-decoration-color: #0087ff\">BatchNormalizatio…</span> │                   │            │                   │\n",
       "├─────────────────────┼───────────────────┼────────────┼───────────────────┤\n",
       "│ concatenate_20      │ (<span style=\"color: #00d7ff; text-decoration-color: #00d7ff\">None</span>, <span style=\"color: #00af00; text-decoration-color: #00af00\">64</span>, <span style=\"color: #00af00; text-decoration-color: #00af00\">192</span>)   │          <span style=\"color: #00af00; text-decoration-color: #00af00\">0</span> │ concatenate_19[<span style=\"color: #00af00; text-decoration-color: #00af00\">0</span>… │\n",
       "│ (<span style=\"color: #0087ff; text-decoration-color: #0087ff\">Concatenate</span>)       │                   │            │ batch_normalizat… │\n",
       "├─────────────────────┼───────────────────┼────────────┼───────────────────┤\n",
       "│ global_max_pooling… │ (<span style=\"color: #00d7ff; text-decoration-color: #00d7ff\">None</span>, <span style=\"color: #00af00; text-decoration-color: #00af00\">192</span>)       │          <span style=\"color: #00af00; text-decoration-color: #00af00\">0</span> │ concatenate_20[<span style=\"color: #00af00; text-decoration-color: #00af00\">0</span>… │\n",
       "│ (<span style=\"color: #0087ff; text-decoration-color: #0087ff\">GlobalMaxPooling1…</span> │                   │            │                   │\n",
       "├─────────────────────┼───────────────────┼────────────┼───────────────────┤\n",
       "│ dense_40 (<span style=\"color: #0087ff; text-decoration-color: #0087ff\">Dense</span>)    │ (<span style=\"color: #00d7ff; text-decoration-color: #00d7ff\">None</span>, <span style=\"color: #00af00; text-decoration-color: #00af00\">182</span>)       │     <span style=\"color: #00af00; text-decoration-color: #00af00\">35,126</span> │ global_max_pooli… │\n",
       "├─────────────────────┼───────────────────┼────────────┼───────────────────┤\n",
       "│ batch_normalizatio… │ (<span style=\"color: #00d7ff; text-decoration-color: #00d7ff\">None</span>, <span style=\"color: #00af00; text-decoration-color: #00af00\">182</span>)       │        <span style=\"color: #00af00; text-decoration-color: #00af00\">728</span> │ dense_40[<span style=\"color: #00af00; text-decoration-color: #00af00\">0</span>][<span style=\"color: #00af00; text-decoration-color: #00af00\">0</span>]    │\n",
       "│ (<span style=\"color: #0087ff; text-decoration-color: #0087ff\">BatchNormalizatio…</span> │                   │            │                   │\n",
       "├─────────────────────┼───────────────────┼────────────┼───────────────────┤\n",
       "│ dropout_20          │ (<span style=\"color: #00d7ff; text-decoration-color: #00d7ff\">None</span>, <span style=\"color: #00af00; text-decoration-color: #00af00\">182</span>)       │          <span style=\"color: #00af00; text-decoration-color: #00af00\">0</span> │ batch_normalizat… │\n",
       "│ (<span style=\"color: #0087ff; text-decoration-color: #0087ff\">Dropout</span>)           │                   │            │                   │\n",
       "├─────────────────────┼───────────────────┼────────────┼───────────────────┤\n",
       "│ dense_41 (<span style=\"color: #0087ff; text-decoration-color: #0087ff\">Dense</span>)    │ (<span style=\"color: #00d7ff; text-decoration-color: #00d7ff\">None</span>, <span style=\"color: #00af00; text-decoration-color: #00af00\">3</span>)         │        <span style=\"color: #00af00; text-decoration-color: #00af00\">549</span> │ dropout_20[<span style=\"color: #00af00; text-decoration-color: #00af00\">0</span>][<span style=\"color: #00af00; text-decoration-color: #00af00\">0</span>]  │\n",
       "└─────────────────────┴───────────────────┴────────────┴───────────────────┘\n",
       "</pre>\n"
      ],
      "text/plain": [
       "┏━━━━━━━━━━━━━━━━━━━━━┳━━━━━━━━━━━━━━━━━━━┳━━━━━━━━━━━━┳━━━━━━━━━━━━━━━━━━━┓\n",
       "┃\u001b[1m \u001b[0m\u001b[1mLayer (type)       \u001b[0m\u001b[1m \u001b[0m┃\u001b[1m \u001b[0m\u001b[1mOutput Shape     \u001b[0m\u001b[1m \u001b[0m┃\u001b[1m \u001b[0m\u001b[1m   Param #\u001b[0m\u001b[1m \u001b[0m┃\u001b[1m \u001b[0m\u001b[1mConnected to     \u001b[0m\u001b[1m \u001b[0m┃\n",
       "┡━━━━━━━━━━━━━━━━━━━━━╇━━━━━━━━━━━━━━━━━━━╇━━━━━━━━━━━━╇━━━━━━━━━━━━━━━━━━━┩\n",
       "│ input_layer_20      │ (\u001b[38;5;45mNone\u001b[0m, \u001b[38;5;34m64\u001b[0m)        │          \u001b[38;5;34m0\u001b[0m │ -                 │\n",
       "│ (\u001b[38;5;33mInputLayer\u001b[0m)        │                   │            │                   │\n",
       "├─────────────────────┼───────────────────┼────────────┼───────────────────┤\n",
       "│ embedding_20        │ (\u001b[38;5;45mNone\u001b[0m, \u001b[38;5;34m64\u001b[0m, \u001b[38;5;34m300\u001b[0m)   │  \u001b[38;5;34m6,075,600\u001b[0m │ input_layer_20[\u001b[38;5;34m0\u001b[0m… │\n",
       "│ (\u001b[38;5;33mEmbedding\u001b[0m)         │                   │            │                   │\n",
       "├─────────────────────┼───────────────────┼────────────┼───────────────────┤\n",
       "│ spatial_dropout1d_… │ (\u001b[38;5;45mNone\u001b[0m, \u001b[38;5;34m64\u001b[0m, \u001b[38;5;34m300\u001b[0m)   │          \u001b[38;5;34m0\u001b[0m │ embedding_20[\u001b[38;5;34m0\u001b[0m][\u001b[38;5;34m…\u001b[0m │\n",
       "│ (\u001b[38;5;33mSpatialDropout1D\u001b[0m)  │                   │            │                   │\n",
       "├─────────────────────┼───────────────────┼────────────┼───────────────────┤\n",
       "│ bidirectional_31    │ (\u001b[38;5;45mNone\u001b[0m, \u001b[38;5;34m64\u001b[0m, \u001b[38;5;34m128\u001b[0m)   │    \u001b[38;5;34m186,880\u001b[0m │ spatial_dropout1… │\n",
       "│ (\u001b[38;5;33mBidirectional\u001b[0m)     │                   │            │                   │\n",
       "├─────────────────────┼───────────────────┼────────────┼───────────────────┤\n",
       "│ conv1d_25 (\u001b[38;5;33mConv1D\u001b[0m)  │ (\u001b[38;5;45mNone\u001b[0m, \u001b[38;5;34m64\u001b[0m, \u001b[38;5;34m64\u001b[0m)    │     \u001b[38;5;34m24,640\u001b[0m │ bidirectional_31… │\n",
       "├─────────────────────┼───────────────────┼────────────┼───────────────────┤\n",
       "│ batch_normalizatio… │ (\u001b[38;5;45mNone\u001b[0m, \u001b[38;5;34m64\u001b[0m, \u001b[38;5;34m64\u001b[0m)    │        \u001b[38;5;34m256\u001b[0m │ conv1d_25[\u001b[38;5;34m0\u001b[0m][\u001b[38;5;34m0\u001b[0m]   │\n",
       "│ (\u001b[38;5;33mBatchNormalizatio…\u001b[0m │                   │            │                   │\n",
       "├─────────────────────┼───────────────────┼────────────┼───────────────────┤\n",
       "│ conv1d_26 (\u001b[38;5;33mConv1D\u001b[0m)  │ (\u001b[38;5;45mNone\u001b[0m, \u001b[38;5;34m64\u001b[0m, \u001b[38;5;34m64\u001b[0m)    │     \u001b[38;5;34m12,352\u001b[0m │ batch_normalizat… │\n",
       "├─────────────────────┼───────────────────┼────────────┼───────────────────┤\n",
       "│ batch_normalizatio… │ (\u001b[38;5;45mNone\u001b[0m, \u001b[38;5;34m64\u001b[0m, \u001b[38;5;34m64\u001b[0m)    │        \u001b[38;5;34m256\u001b[0m │ conv1d_26[\u001b[38;5;34m0\u001b[0m][\u001b[38;5;34m0\u001b[0m]   │\n",
       "│ (\u001b[38;5;33mBatchNormalizatio…\u001b[0m │                   │            │                   │\n",
       "├─────────────────────┼───────────────────┼────────────┼───────────────────┤\n",
       "│ conv1d_27 (\u001b[38;5;33mConv1D\u001b[0m)  │ (\u001b[38;5;45mNone\u001b[0m, \u001b[38;5;34m64\u001b[0m, \u001b[38;5;34m64\u001b[0m)    │     \u001b[38;5;34m19,264\u001b[0m │ spatial_dropout1… │\n",
       "├─────────────────────┼───────────────────┼────────────┼───────────────────┤\n",
       "│ concatenate_19      │ (\u001b[38;5;45mNone\u001b[0m, \u001b[38;5;34m64\u001b[0m, \u001b[38;5;34m128\u001b[0m)   │          \u001b[38;5;34m0\u001b[0m │ batch_normalizat… │\n",
       "│ (\u001b[38;5;33mConcatenate\u001b[0m)       │                   │            │ conv1d_27[\u001b[38;5;34m0\u001b[0m][\u001b[38;5;34m0\u001b[0m]   │\n",
       "├─────────────────────┼───────────────────┼────────────┼───────────────────┤\n",
       "│ conv1d_28 (\u001b[38;5;33mConv1D\u001b[0m)  │ (\u001b[38;5;45mNone\u001b[0m, \u001b[38;5;34m64\u001b[0m, \u001b[38;5;34m64\u001b[0m)    │     \u001b[38;5;34m24,640\u001b[0m │ concatenate_19[\u001b[38;5;34m0\u001b[0m… │\n",
       "├─────────────────────┼───────────────────┼────────────┼───────────────────┤\n",
       "│ batch_normalizatio… │ (\u001b[38;5;45mNone\u001b[0m, \u001b[38;5;34m64\u001b[0m, \u001b[38;5;34m64\u001b[0m)    │        \u001b[38;5;34m256\u001b[0m │ conv1d_28[\u001b[38;5;34m0\u001b[0m][\u001b[38;5;34m0\u001b[0m]   │\n",
       "│ (\u001b[38;5;33mBatchNormalizatio…\u001b[0m │                   │            │                   │\n",
       "├─────────────────────┼───────────────────┼────────────┼───────────────────┤\n",
       "│ conv1d_29 (\u001b[38;5;33mConv1D\u001b[0m)  │ (\u001b[38;5;45mNone\u001b[0m, \u001b[38;5;34m64\u001b[0m, \u001b[38;5;34m64\u001b[0m)    │     \u001b[38;5;34m12,352\u001b[0m │ batch_normalizat… │\n",
       "├─────────────────────┼───────────────────┼────────────┼───────────────────┤\n",
       "│ batch_normalizatio… │ (\u001b[38;5;45mNone\u001b[0m, \u001b[38;5;34m64\u001b[0m, \u001b[38;5;34m64\u001b[0m)    │        \u001b[38;5;34m256\u001b[0m │ conv1d_29[\u001b[38;5;34m0\u001b[0m][\u001b[38;5;34m0\u001b[0m]   │\n",
       "│ (\u001b[38;5;33mBatchNormalizatio…\u001b[0m │                   │            │                   │\n",
       "├─────────────────────┼───────────────────┼────────────┼───────────────────┤\n",
       "│ concatenate_20      │ (\u001b[38;5;45mNone\u001b[0m, \u001b[38;5;34m64\u001b[0m, \u001b[38;5;34m192\u001b[0m)   │          \u001b[38;5;34m0\u001b[0m │ concatenate_19[\u001b[38;5;34m0\u001b[0m… │\n",
       "│ (\u001b[38;5;33mConcatenate\u001b[0m)       │                   │            │ batch_normalizat… │\n",
       "├─────────────────────┼───────────────────┼────────────┼───────────────────┤\n",
       "│ global_max_pooling… │ (\u001b[38;5;45mNone\u001b[0m, \u001b[38;5;34m192\u001b[0m)       │          \u001b[38;5;34m0\u001b[0m │ concatenate_20[\u001b[38;5;34m0\u001b[0m… │\n",
       "│ (\u001b[38;5;33mGlobalMaxPooling1…\u001b[0m │                   │            │                   │\n",
       "├─────────────────────┼───────────────────┼────────────┼───────────────────┤\n",
       "│ dense_40 (\u001b[38;5;33mDense\u001b[0m)    │ (\u001b[38;5;45mNone\u001b[0m, \u001b[38;5;34m182\u001b[0m)       │     \u001b[38;5;34m35,126\u001b[0m │ global_max_pooli… │\n",
       "├─────────────────────┼───────────────────┼────────────┼───────────────────┤\n",
       "│ batch_normalizatio… │ (\u001b[38;5;45mNone\u001b[0m, \u001b[38;5;34m182\u001b[0m)       │        \u001b[38;5;34m728\u001b[0m │ dense_40[\u001b[38;5;34m0\u001b[0m][\u001b[38;5;34m0\u001b[0m]    │\n",
       "│ (\u001b[38;5;33mBatchNormalizatio…\u001b[0m │                   │            │                   │\n",
       "├─────────────────────┼───────────────────┼────────────┼───────────────────┤\n",
       "│ dropout_20          │ (\u001b[38;5;45mNone\u001b[0m, \u001b[38;5;34m182\u001b[0m)       │          \u001b[38;5;34m0\u001b[0m │ batch_normalizat… │\n",
       "│ (\u001b[38;5;33mDropout\u001b[0m)           │                   │            │                   │\n",
       "├─────────────────────┼───────────────────┼────────────┼───────────────────┤\n",
       "│ dense_41 (\u001b[38;5;33mDense\u001b[0m)    │ (\u001b[38;5;45mNone\u001b[0m, \u001b[38;5;34m3\u001b[0m)         │        \u001b[38;5;34m549\u001b[0m │ dropout_20[\u001b[38;5;34m0\u001b[0m][\u001b[38;5;34m0\u001b[0m]  │\n",
       "└─────────────────────┴───────────────────┴────────────┴───────────────────┘\n"
      ]
     },
     "metadata": {},
     "output_type": "display_data"
    },
    {
     "data": {
      "text/html": [
       "<pre style=\"white-space:pre;overflow-x:auto;line-height:normal;font-family:Menlo,'DejaVu Sans Mono',consolas,'Courier New',monospace\"><span style=\"font-weight: bold\"> Total params: </span><span style=\"color: #00af00; text-decoration-color: #00af00\">19,177,715</span> (73.16 MB)\n",
       "</pre>\n"
      ],
      "text/plain": [
       "\u001b[1m Total params: \u001b[0m\u001b[38;5;34m19,177,715\u001b[0m (73.16 MB)\n"
      ]
     },
     "metadata": {},
     "output_type": "display_data"
    },
    {
     "data": {
      "text/html": [
       "<pre style=\"white-space:pre;overflow-x:auto;line-height:normal;font-family:Menlo,'DejaVu Sans Mono',consolas,'Courier New',monospace\"><span style=\"font-weight: bold\"> Trainable params: </span><span style=\"color: #00af00; text-decoration-color: #00af00\">6,392,279</span> (24.38 MB)\n",
       "</pre>\n"
      ],
      "text/plain": [
       "\u001b[1m Trainable params: \u001b[0m\u001b[38;5;34m6,392,279\u001b[0m (24.38 MB)\n"
      ]
     },
     "metadata": {},
     "output_type": "display_data"
    },
    {
     "data": {
      "text/html": [
       "<pre style=\"white-space:pre;overflow-x:auto;line-height:normal;font-family:Menlo,'DejaVu Sans Mono',consolas,'Courier New',monospace\"><span style=\"font-weight: bold\"> Non-trainable params: </span><span style=\"color: #00af00; text-decoration-color: #00af00\">876</span> (3.42 KB)\n",
       "</pre>\n"
      ],
      "text/plain": [
       "\u001b[1m Non-trainable params: \u001b[0m\u001b[38;5;34m876\u001b[0m (3.42 KB)\n"
      ]
     },
     "metadata": {},
     "output_type": "display_data"
    },
    {
     "data": {
      "text/html": [
       "<pre style=\"white-space:pre;overflow-x:auto;line-height:normal;font-family:Menlo,'DejaVu Sans Mono',consolas,'Courier New',monospace\"><span style=\"font-weight: bold\"> Optimizer params: </span><span style=\"color: #00af00; text-decoration-color: #00af00\">12,784,560</span> (48.77 MB)\n",
       "</pre>\n"
      ],
      "text/plain": [
       "\u001b[1m Optimizer params: \u001b[0m\u001b[38;5;34m12,784,560\u001b[0m (48.77 MB)\n"
      ]
     },
     "metadata": {},
     "output_type": "display_data"
    }
   ],
   "source": [
    "model_4th.summary()"
   ]
  },
  {
   "cell_type": "markdown",
   "metadata": {},
   "source": [
    "# Model Ensembling  (Stacking Method)"
   ]
  },
  {
   "cell_type": "code",
   "execution_count": 42,
   "metadata": {},
   "outputs": [],
   "source": [
    "def stacked_dataset(members, inputX):\n",
    "\tstackX = None\n",
    "\tfor model in members:\n",
    "\t\tyhat = model.predict(inputX, verbose=0)\n",
    "\t\t# stack predictions into [rows, members, probabilities]\n",
    "\t\tif stackX is None:\n",
    "\t\t\tstackX = yhat\n",
    "\t\telse:\n",
    "\t\t\tstackX = dstack((stackX, yhat))\n",
    "\t# flatten predictions to [rows, members x probabilities]\n",
    "\tstackX = stackX.reshape((stackX.shape[0], stackX.shape[1]*stackX.shape[2]))\n",
    "\treturn stackX\n",
    " \n",
    "def fit_stacked_model(members, inputX, inputy):\n",
    "\t# create dataset using ensemble\n",
    "\tstackedX = stacked_dataset(members, inputX)\n",
    "\tmodel = LogisticRegression()\n",
    "\tmodel.fit(stackedX, inputy)\n",
    "\tsave_history_to_pickle(history, 'ensemble_model_history.pkl')\n",
    "\treturn model\n",
    " \n",
    "# make a prediction with the stacked model\n",
    "def stacked_prediction(members, model, inputX):\n",
    "\tstackedX = stacked_dataset(members, inputX)\n",
    "\tyhat = model.predict(stackedX)\n",
    "\treturn yhat"
   ]
  },
  {
   "cell_type": "code",
   "execution_count": 43,
   "metadata": {},
   "outputs": [
    {
     "name": "stdout",
     "output_type": "stream",
     "text": [
      "\u001b[1m122/122\u001b[0m \u001b[32m━━━━━━━━━━━━━━━━━━━━\u001b[0m\u001b[37m\u001b[0m \u001b[1m11s\u001b[0m 87ms/step - accuracy: 0.7831 - loss: 0.5949\n",
      "Model Accuracy:  0.7798871397972107\n",
      "\u001b[1m122/122\u001b[0m \u001b[32m━━━━━━━━━━━━━━━━━━━━\u001b[0m\u001b[37m\u001b[0m \u001b[1m18s\u001b[0m 151ms/step - accuracy: 0.7853 - loss: 0.5849\n",
      "Model Accuracy:  0.7863006591796875\n",
      "\u001b[1m122/122\u001b[0m \u001b[32m━━━━━━━━━━━━━━━━━━━━\u001b[0m\u001b[37m\u001b[0m \u001b[1m8s\u001b[0m 67ms/step - accuracy: 0.6715 - loss: 0.7530\n",
      "Model Accuracy:  0.6739353537559509\n",
      "\u001b[1m122/122\u001b[0m \u001b[32m━━━━━━━━━━━━━━━━━━━━\u001b[0m\u001b[37m\u001b[0m \u001b[1m4s\u001b[0m 32ms/step - accuracy: 0.7527 - loss: 0.5917\n",
      "Model Accuracy:  0.7491021156311035\n",
      "Training history saved to 'ensemble_model_history.pkl'.\n",
      "              precision    recall  f1-score   support\n",
      "\n",
      "           0       0.78      0.84      0.81      1591\n",
      "           1       0.83      0.77      0.80      1141\n",
      "           2       0.81      0.78      0.80      1166\n",
      "\n",
      "    accuracy                           0.80      3898\n",
      "   macro avg       0.81      0.80      0.80      3898\n",
      "weighted avg       0.80      0.80      0.80      3898\n",
      "\n"
     ]
    }
   ],
   "source": [
    "members = [model_1,model_2nd,model_3rd,model_4th]\n",
    "for models in members:\n",
    "  _,acc = models.evaluate(X_test,y_test)\n",
    "  print('Model Accuracy: ', acc)\n",
    " \n",
    "model = fit_stacked_model(members, X_test, y_test.argmax(1))\n",
    "yhat = stacked_prediction(members, model, X_test)\n",
    "\n",
    "print(classification_report(y_test.argmax(1),yhat))"
   ]
  },
  {
   "cell_type": "code",
   "execution_count": 45,
   "metadata": {},
   "outputs": [
    {
     "data": {
      "image/png": "[encoded data removed]",
      "text/plain": [
       "<Figure size 1000x600 with 1 Axes>"
      ]
     },
     "metadata": {},
     "output_type": "display_data"
    }
   ],
   "source": [
    "# Load the saved histories\n",
    "with open('model_1_history.pkl', 'rb') as f:\n",
    "    model_1_history = pickle.load(f)\n",
    "with open('model_2_history.pkl', 'rb') as f:\n",
    "    model_2_history = pickle.load(f)\n",
    "with open('model_3_history.pkl', 'rb') as f:\n",
    "    model_3_history = pickle.load(f)\n",
    "with open('model_4_history.pkl', 'rb') as f:\n",
    "    model_4_history = pickle.load(f)\n",
    "with open('ensemble_model_history.pkl', 'rb') as f:\n",
    "    ensemble_model_history = pickle.load(f)\n",
    "    \n",
    "# Assuming you have loaded all the model histories you want to compare\n",
    "# Define model names\n",
    "model_names = ['Model 1', 'Model 2', 'Model 3', 'Model 4', 'Ensemble Model']\n",
    "\n",
    "# Create a list of loaded histories\n",
    "histories = [model_1_history,model_2_history, model_3_history, model_4_history, ensemble_model_history]\n",
    "\n",
    "# Plot learning curves\n",
    "plot_learning_curves(histories, model_names)"
   ]
  },
  {
   "cell_type": "code",
   "execution_count": null,
   "metadata": {},
   "outputs": [],
   "source": []
  }
 ],
 "metadata": {
  "kernelspec": {
   "display_name": "Python 3 (ipykernel)",
   "language": "python",
   "name": "python3"
  },
  "language_info": {
   "codemirror_mode": {
    "name": "ipython",
    "version": 3
   },
   "file_extension": ".py",
   "mimetype": "text/x-python",
   "name": "python",
   "nbconvert_exporter": "python",
   "pygments_lexer": "ipython3",
   "version": "3.12.1"
  }
 },
 "nbformat": 4,
 "nbformat_minor": 4
}
